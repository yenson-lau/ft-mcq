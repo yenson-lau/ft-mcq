{
 "cells": [
  {
   "cell_type": "code",
   "execution_count": 1,
   "metadata": {},
   "outputs": [
    {
     "data": {
      "text/plain": [
       "Dataset({\n",
       "    features: ['Answer', 'ID', 'Question', 'Choices'],\n",
       "    num_rows: 100\n",
       "})"
      ]
     },
     "metadata": {},
     "output_type": "display_data"
    },
    {
     "data": {
      "text/plain": [
       "{'Answer': 'C. 4',\n",
       " 'ID': '1',\n",
       " 'Question': 'Mỗi phân tử kháng thể IgG đơn phân trong huyết thanh có bao nhiêu chuỗi polypeptide ',\n",
       " 'Choices': ['A. 1', 'B. 2', 'C. 4', 'D. 10']}"
      ]
     },
     "metadata": {},
     "output_type": "display_data"
    }
   ],
   "source": [
    "from datasets import load_dataset\n",
    "\n",
    "example = load_dataset(\"dohuyen/9k-questions\", split=\"train[:1]\")[0]\n",
    "dataset = load_dataset(\"dohuyen/9k-questions\", split=\"train[1:101]\")\n",
    "\n",
    "display(dataset)\n",
    "display(example)"
   ]
  },
  {
   "cell_type": "code",
   "execution_count": 2,
   "metadata": {},
   "outputs": [
    {
     "data": {
      "application/vnd.jupyter.widget-view+json": {
       "model_id": "1dd3afaa1efd4fc4a0a78351fcef7937",
       "version_major": 2,
       "version_minor": 0
      },
      "text/plain": [
       "Loading checkpoint shards:   0%|          | 0/2 [00:00<?, ?it/s]"
      ]
     },
     "metadata": {},
     "output_type": "display_data"
    }
   ],
   "source": [
    "import torch\n",
    "from transformers import AutoModelForCausalLM, AutoTokenizer\n",
    "\n",
    "model_id = \"microsoft/Phi-3-mini-4k-instruct\"\n",
    "\n",
    "model = AutoModelForCausalLM.from_pretrained(\n",
    "    model_id,\n",
    "    torch_dtype=torch.float16,\n",
    "    device_map=\"auto\"\n",
    ")\n",
    "tokenizer = AutoTokenizer.from_pretrained(model_id)"
   ]
  },
  {
   "cell_type": "code",
   "execution_count": 3,
   "metadata": {},
   "outputs": [
    {
     "name": "stdout",
     "output_type": "stream",
     "text": [
      "<|user|>\n",
      "You are a helpful Vietnamese medical AI assistant. Answer the following multiple choice questions in Vietnamese regarding medical scenarios in the following format:\n",
      "\n",
      "Mỗi phân tử kháng thể IgG đơn phân trong huyết thanh có bao nhiêu chuỗi polypeptide \n",
      "\n",
      "A. 1\n",
      "B. 2\n",
      "C. 4\n",
      "D. 10<|end|>\n",
      "<|assistant|>\n",
      "C. 4<|end|>\n",
      "<|endoftext|>\n"
     ]
    }
   ],
   "source": [
    "def compile_messages(sample: dict, add_context: bool = False) -> list[dict]:\n",
    "    user_message = \"{question}\\n\\n{choices}\".format(\n",
    "        question=sample[\"Question\"],\n",
    "        choices=\"\\n\".join(sample[\"Choices\"])\n",
    "    )\n",
    "    if add_context:\n",
    "        user_message = (\n",
    "            \"You are a helpful Vietnamese medical AI assistant. \"\n",
    "            \"Answer the following multiple choice questions in Vietnamese \"\n",
    "            \"regarding medical scenarios in the following format:\\n\\n\"\n",
    "        ) + user_message\n",
    "    messages = [{\"role\": \"user\", \"content\": user_message}]\n",
    "\n",
    "    if add_context:\n",
    "        messages.append({\"role\": \"assistant\", \"content\": sample[\"Answer\"]})\n",
    "\n",
    "    return messages\n",
    "\n",
    "example_messages = compile_messages(example, add_context=True)\n",
    "print(tokenizer.apply_chat_template(example_messages, tokenize=False))"
   ]
  },
  {
   "cell_type": "code",
   "execution_count": 4,
   "metadata": {},
   "outputs": [
    {
     "name": "stderr",
     "output_type": "stream",
     "text": [
      "Batch:   0%|          | 0/2 [00:00<?, ?it/s]"
     ]
    },
    {
     "name": "stderr",
     "output_type": "stream",
     "text": [
      "Batch: 100%|██████████| 2/2 [00:04<00:00,  2.44s/it]\n"
     ]
    },
    {
     "data": {
      "text/plain": [
       "['C. 5',\n",
       " 'B. 5\\n\\n\\nĐể giải thích điều này, ta sẽ xem xét cấu trúc của IgM, một loài nhân vi sinh thị không thể được biểu diễn bởi một phân tử IgM hoàn chỉnh.',\n",
       " 'C. tế bào plasma (tuơng bào, plasmocyte)',\n",
       " 'D. IgM và IgG']"
      ]
     },
     "metadata": {},
     "output_type": "display_data"
    }
   ],
   "source": [
    "from more_itertools import unzip\n",
    "from tqdm import tqdm\n",
    "\n",
    "def generate_prompt(sample) -> str:\n",
    "    messages = example_messages + compile_messages(sample)\n",
    "    return tokenizer.apply_chat_template(\n",
    "        messages, tokenize=False, add_generation_prompt=True\n",
    "    )\n",
    "\n",
    "def generate_answers_batched(dataset, batch_size=8):\n",
    "    all_predictions = dict[int, str]()\n",
    "    indexed_prompts = sorted(\n",
    "        enumerate(map(generate_prompt, dataset)),\n",
    "        key=lambda i_prompt: len(i_prompt[1])\n",
    "    )\n",
    "\n",
    "    for i in tqdm(range(0, len(indexed_prompts), batch_size), desc=\"Batch\"):\n",
    "        batch_idxs, batch_prompts = unzip(indexed_prompts[i: i + batch_size])\n",
    "        batch_idxs, batch_prompts = list(batch_idxs), list(batch_prompts)\n",
    "\n",
    "        batch_inputs = tokenizer(batch_prompts, padding=True, return_tensors=\"pt\")\n",
    "        batch_input_length = batch_inputs[\"input_ids\"].shape[1]\n",
    "\n",
    "        with torch.no_grad():\n",
    "            batch_outputs = model.generate(\n",
    "                **batch_inputs.to(model.device),\n",
    "                max_new_tokens=100,\n",
    "                do_sample=True,\n",
    "                temperature=0.001,\n",
    "                top_p=0.999,\n",
    "            )\n",
    "\n",
    "        for j, output in zip(batch_idxs, batch_outputs):\n",
    "            all_predictions[j] = tokenizer.decode(\n",
    "                output[batch_input_length:], skip_special_tokens=True\n",
    "            )\n",
    "\n",
    "    return dataset.add_column(\n",
    "        \"Prediction\", [all_predictions[i] for i in range(len(dataset))]\n",
    "    )\n",
    "\n",
    "example_preds = generate_answers_batched(dataset.select(range(4)), batch_size=2)\n",
    "display(example_preds[\"Prediction\"])"
   ]
  },
  {
   "cell_type": "code",
   "execution_count": 5,
   "metadata": {},
   "outputs": [
    {
     "name": "stderr",
     "output_type": "stream",
     "text": [
      "Batch:   0%|          | 0/25 [00:00<?, ?it/s]"
     ]
    },
    {
     "name": "stderr",
     "output_type": "stream",
     "text": [
      "Batch: 100%|██████████| 25/25 [00:36<00:00,  1.44s/it]\n"
     ]
    },
    {
     "data": {
      "text/html": [
       "<div>\n",
       "<style scoped>\n",
       "    .dataframe tbody tr th:only-of-type {\n",
       "        vertical-align: middle;\n",
       "    }\n",
       "\n",
       "    .dataframe tbody tr th {\n",
       "        vertical-align: top;\n",
       "    }\n",
       "\n",
       "    .dataframe thead th {\n",
       "        text-align: right;\n",
       "    }\n",
       "</style>\n",
       "<table border=\"1\" class=\"dataframe\">\n",
       "  <thead>\n",
       "    <tr style=\"text-align: right;\">\n",
       "      <th></th>\n",
       "      <th>Answer</th>\n",
       "      <th>ID</th>\n",
       "      <th>Question</th>\n",
       "      <th>Choices</th>\n",
       "      <th>Prediction</th>\n",
       "    </tr>\n",
       "  </thead>\n",
       "  <tbody>\n",
       "    <tr>\n",
       "      <th>0</th>\n",
       "      <td>D. 10</td>\n",
       "      <td>2</td>\n",
       "      <td>Một phân tử IgM trong huyết thanh có mấy vị tr...</td>\n",
       "      <td>[A. 1, B. 2, C. 5, D. 10]</td>\n",
       "      <td>C. 5</td>\n",
       "    </tr>\n",
       "    <tr>\n",
       "      <th>1</th>\n",
       "      <td>D. Tất cả đều đúng</td>\n",
       "      <td>3</td>\n",
       "      <td>Một phân tử IgM hoàn chỉnh trong huyết thanh c...</td>\n",
       "      <td>[A. 4, B. 5, C. 10, D. Tất cả đều đúng]</td>\n",
       "      <td>B. 5\\n\\n\\nĐể giải thích điều này, ta sẽ xem xé...</td>\n",
       "    </tr>\n",
       "    <tr>\n",
       "      <th>2</th>\n",
       "      <td>C. tế bào plasma (tuơng bào, plasmocyte)</td>\n",
       "      <td>4</td>\n",
       "      <td>Tế bào sản xuất kháng thể là</td>\n",
       "      <td>[A. lympho bào B, B. lympho bào T, C. tế bào p...</td>\n",
       "      <td>C. tế bào plasma (tuơng bào, plasmocyte)</td>\n",
       "    </tr>\n",
       "    <tr>\n",
       "      <th>3</th>\n",
       "      <td>C. IgG</td>\n",
       "      <td>5</td>\n",
       "      <td>Lớp kháng thể nào có thể đi qua được màng rau ...</td>\n",
       "      <td>[A. IgM, B. IgA, C. IgG, D. IgM và IgG]</td>\n",
       "      <td>D. IgM và IgG</td>\n",
       "    </tr>\n",
       "    <tr>\n",
       "      <th>4</th>\n",
       "      <td>D. IgM</td>\n",
       "      <td>6</td>\n",
       "      <td>Kháng thể tự nhiên chống kháng nguyên hồng cầu...</td>\n",
       "      <td>[A. IgG, B. IgG và IgA, C. IgA và IgM, D. IgM]</td>\n",
       "      <td>C. IgA và IgM</td>\n",
       "    </tr>\n",
       "    <tr>\n",
       "      <th>...</th>\n",
       "      <td>...</td>\n",
       "      <td>...</td>\n",
       "      <td>...</td>\n",
       "      <td>...</td>\n",
       "      <td>...</td>\n",
       "    </tr>\n",
       "    <tr>\n",
       "      <th>95</th>\n",
       "      <td>C. nhiễm virut</td>\n",
       "      <td>97</td>\n",
       "      <td>Hình thức đáp ứng miễn dịch qua trung gian tế ...</td>\n",
       "      <td>[A. nhiễm vi khuẩn lao, B. nhiễm vi khuẩn tả, ...</td>\n",
       "      <td>A. nhiễm vi khuẩn lao</td>\n",
       "    </tr>\n",
       "    <tr>\n",
       "      <th>96</th>\n",
       "      <td>C. nhiễm virut</td>\n",
       "      <td>98</td>\n",
       "      <td>Hình thức đáp ứng miễn dịch qua trung gian tế ...</td>\n",
       "      <td>[A. nhiễm vi khuẩn lao, B. nhiễm vi khuẩn tả, ...</td>\n",
       "      <td>A. nhiễm vi khuẩn lao</td>\n",
       "    </tr>\n",
       "    <tr>\n",
       "      <th>97</th>\n",
       "      <td>D. Typ IV: Quá mẫn trung gian tế bào</td>\n",
       "      <td>99</td>\n",
       "      <td>Phản ứng quá mẫn gây ra bệnh viêm da tiếp xúc ...</td>\n",
       "      <td>[A. Typ I: Quá mẫn kiểu phản vệ, B. Typ II: Qu...</td>\n",
       "      <td>B. Typ II: Quá mẫn độc tế bào</td>\n",
       "    </tr>\n",
       "    <tr>\n",
       "      <th>98</th>\n",
       "      <td>A. Typ I: Quá mẫn kiểu phản vệ</td>\n",
       "      <td>100</td>\n",
       "      <td>Phù mặt diễn ra nhanh sau khi bị ong đốt thuôc...</td>\n",
       "      <td>[A. Typ I: Quá mẫn kiểu phản vệ, B. Typ II: Qu...</td>\n",
       "      <td>B. Typ II: Quá mẫn độc tế bào</td>\n",
       "    </tr>\n",
       "    <tr>\n",
       "      <th>99</th>\n",
       "      <td>B. Typ II: Quá mẫn độc tế bào</td>\n",
       "      <td>101</td>\n",
       "      <td>Phản ứng quá mẫn gây ra bệnh thiếu máu tan huy...</td>\n",
       "      <td>[A. Typ I: Quá mẫn kiểu phản vệ, B. Typ II: Qu...</td>\n",
       "      <td>B. Typ II: Quá mẫn độc tế bào</td>\n",
       "    </tr>\n",
       "  </tbody>\n",
       "</table>\n",
       "<p>100 rows × 5 columns</p>\n",
       "</div>"
      ],
      "text/plain": [
       "                                      Answer   ID  \\\n",
       "0                                      D. 10    2   \n",
       "1                         D. Tất cả đều đúng    3   \n",
       "2   C. tế bào plasma (tuơng bào, plasmocyte)    4   \n",
       "3                                     C. IgG    5   \n",
       "4                                     D. IgM    6   \n",
       "..                                       ...  ...   \n",
       "95                            C. nhiễm virut   97   \n",
       "96                            C. nhiễm virut   98   \n",
       "97      D. Typ IV: Quá mẫn trung gian tế bào   99   \n",
       "98            A. Typ I: Quá mẫn kiểu phản vệ  100   \n",
       "99             B. Typ II: Quá mẫn độc tế bào  101   \n",
       "\n",
       "                                             Question  \\\n",
       "0   Một phân tử IgM trong huyết thanh có mấy vị tr...   \n",
       "1   Một phân tử IgM hoàn chỉnh trong huyết thanh c...   \n",
       "2                       Tế bào sản xuất kháng thể là    \n",
       "3   Lớp kháng thể nào có thể đi qua được màng rau ...   \n",
       "4   Kháng thể tự nhiên chống kháng nguyên hồng cầu...   \n",
       "..                                                ...   \n",
       "95  Hình thức đáp ứng miễn dịch qua trung gian tế ...   \n",
       "96  Hình thức đáp ứng miễn dịch qua trung gian tế ...   \n",
       "97  Phản ứng quá mẫn gây ra bệnh viêm da tiếp xúc ...   \n",
       "98  Phù mặt diễn ra nhanh sau khi bị ong đốt thuôc...   \n",
       "99  Phản ứng quá mẫn gây ra bệnh thiếu máu tan huy...   \n",
       "\n",
       "                                              Choices  \\\n",
       "0                           [A. 1, B. 2, C. 5, D. 10]   \n",
       "1             [A. 4, B. 5, C. 10, D. Tất cả đều đúng]   \n",
       "2   [A. lympho bào B, B. lympho bào T, C. tế bào p...   \n",
       "3             [A. IgM, B. IgA, C. IgG, D. IgM và IgG]   \n",
       "4      [A. IgG, B. IgG và IgA, C. IgA và IgM, D. IgM]   \n",
       "..                                                ...   \n",
       "95  [A. nhiễm vi khuẩn lao, B. nhiễm vi khuẩn tả, ...   \n",
       "96  [A. nhiễm vi khuẩn lao, B. nhiễm vi khuẩn tả, ...   \n",
       "97  [A. Typ I: Quá mẫn kiểu phản vệ, B. Typ II: Qu...   \n",
       "98  [A. Typ I: Quá mẫn kiểu phản vệ, B. Typ II: Qu...   \n",
       "99  [A. Typ I: Quá mẫn kiểu phản vệ, B. Typ II: Qu...   \n",
       "\n",
       "                                           Prediction  \n",
       "0                                                C. 5  \n",
       "1   B. 5\\n\\n\\nĐể giải thích điều này, ta sẽ xem xé...  \n",
       "2            C. tế bào plasma (tuơng bào, plasmocyte)  \n",
       "3                                       D. IgM và IgG  \n",
       "4                                       C. IgA và IgM  \n",
       "..                                                ...  \n",
       "95                              A. nhiễm vi khuẩn lao  \n",
       "96                              A. nhiễm vi khuẩn lao  \n",
       "97                      B. Typ II: Quá mẫn độc tế bào  \n",
       "98                      B. Typ II: Quá mẫn độc tế bào  \n",
       "99                      B. Typ II: Quá mẫn độc tế bào  \n",
       "\n",
       "[100 rows x 5 columns]"
      ]
     },
     "metadata": {},
     "output_type": "display_data"
    }
   ],
   "source": [
    "dataset = generate_answers_batched(dataset)\n",
    "display(dataset.to_pandas())"
   ]
  },
  {
   "cell_type": "code",
   "execution_count": 6,
   "metadata": {},
   "outputs": [
    {
     "name": "stdout",
     "output_type": "stream",
     "text": [
      "Format Accuracy: 0.93\n",
      "Answer Accuracy: 0.34\n"
     ]
    }
   ],
   "source": [
    "fmt_acc = sum(\n",
    "    pred.strip() in map(str.strip, choices)\n",
    "    for pred, choices in zip(dataset[\"Prediction\"], dataset[\"Choices\"])\n",
    ") / len(dataset)\n",
    "ans_acc = sum(\n",
    "    pred.strip() == ans.strip()\n",
    "    for pred, ans in zip(dataset[\"Prediction\"], dataset[\"Answer\"])\n",
    ") / len(dataset)\n",
    "print(f\"Format Accuracy: {fmt_acc}\")\n",
    "print(f\"Answer Accuracy: {ans_acc}\")"
   ]
  }
 ],
 "metadata": {
  "kernelspec": {
   "display_name": "Python 3",
   "language": "python",
   "name": "python3"
  },
  "language_info": {
   "codemirror_mode": {
    "name": "ipython",
    "version": 3
   },
   "file_extension": ".py",
   "mimetype": "text/x-python",
   "name": "python",
   "nbconvert_exporter": "python",
   "pygments_lexer": "ipython3",
   "version": "3.10.16"
  }
 },
 "nbformat": 4,
 "nbformat_minor": 2
}
