{
 "cells": [
  {
   "cell_type": "code",
   "execution_count": 1,
   "metadata": {},
   "outputs": [
    {
     "data": {
      "text/plain": [
       "Dataset({\n",
       "    features: ['Answer', 'ID', 'Question', 'Choices'],\n",
       "    num_rows: 100\n",
       "})"
      ]
     },
     "metadata": {},
     "output_type": "display_data"
    },
    {
     "data": {
      "text/plain": [
       "{'Answer': 'C. 4',\n",
       " 'ID': '1',\n",
       " 'Question': 'Mỗi phân tử kháng thể IgG đơn phân trong huyết thanh có bao nhiêu chuỗi polypeptide ',\n",
       " 'Choices': ['A. 1', 'B. 2', 'C. 4', 'D. 10']}"
      ]
     },
     "metadata": {},
     "output_type": "display_data"
    }
   ],
   "source": [
    "from datasets import load_dataset\n",
    "\n",
    "example = load_dataset(\"dohuyen/9k-questions\", split=\"train[:1]\")[0]\n",
    "dataset = load_dataset(\"dohuyen/9k-questions\", split=\"train[1:101]\")\n",
    "\n",
    "display(dataset)\n",
    "display(example)"
   ]
  },
  {
   "cell_type": "code",
   "execution_count": 2,
   "metadata": {},
   "outputs": [
    {
     "data": {
      "application/vnd.jupyter.widget-view+json": {
       "model_id": "72c06c1ef3304421bb729ea39cce4964",
       "version_major": 2,
       "version_minor": 0
      },
      "text/plain": [
       "Loading checkpoint shards:   0%|          | 0/2 [00:00<?, ?it/s]"
      ]
     },
     "metadata": {},
     "output_type": "display_data"
    }
   ],
   "source": [
    "import torch\n",
    "from transformers import AutoModelForCausalLM, AutoTokenizer\n",
    "\n",
    "model_id = \"microsoft/Phi-3-mini-4k-instruct\"\n",
    "\n",
    "model = AutoModelForCausalLM.from_pretrained(\n",
    "    model_id,\n",
    "    torch_dtype=torch.float16,\n",
    "    device_map=\"auto\"\n",
    ")\n",
    "tokenizer = AutoTokenizer.from_pretrained(model_id)"
   ]
  },
  {
   "cell_type": "code",
   "execution_count": 3,
   "metadata": {},
   "outputs": [
    {
     "name": "stdout",
     "output_type": "stream",
     "text": [
      "<|user|>\n",
      "You are a helpful Vietnamese medical AI assistant. Answer the following multiple choice questions in Vietnamese regarding medical scenarios in the following format:\n",
      "\n",
      "Mỗi phân tử kháng thể IgG đơn phân trong huyết thanh có bao nhiêu chuỗi polypeptide \n",
      "\n",
      "A. 1\n",
      "B. 2\n",
      "C. 4\n",
      "D. 10<|end|>\n",
      "<|assistant|>\n",
      "C. 4<|end|>\n",
      "<|endoftext|>\n"
     ]
    }
   ],
   "source": [
    "def compile_messages(sample: dict, add_context: bool = False) -> list[dict]:\n",
    "    user_message = \"{question}\\n\\n{choices}\".format(\n",
    "        question=sample[\"Question\"],\n",
    "        choices=\"\\n\".join(sample[\"Choices\"])\n",
    "    )\n",
    "    if add_context:\n",
    "        user_message = (\n",
    "            \"You are a helpful Vietnamese medical AI assistant. \"\n",
    "            \"Answer the following multiple choice questions in Vietnamese \"\n",
    "            \"regarding medical scenarios in the following format:\\n\\n\"\n",
    "        ) + user_message\n",
    "    messages = [{\"role\": \"user\", \"content\": user_message}]\n",
    "\n",
    "    if add_context:\n",
    "        messages.append({\"role\": \"assistant\", \"content\": sample[\"Answer\"]})\n",
    "\n",
    "    return messages\n",
    "\n",
    "example_messages = compile_messages(example, add_context=True)\n",
    "print(tokenizer.apply_chat_template(example_messages, tokenize=False))"
   ]
  },
  {
   "cell_type": "code",
   "execution_count": 4,
   "metadata": {},
   "outputs": [
    {
     "data": {
      "text/plain": [
       "'C. 5'"
      ]
     },
     "metadata": {},
     "output_type": "display_data"
    }
   ],
   "source": [
    "def generate_answer(sample: dict) -> str:\n",
    "    messages = example_messages + compile_messages(sample)\n",
    "\n",
    "    prompt = tokenizer.apply_chat_template(\n",
    "        messages, tokenize=False, add_generation_prompt=True\n",
    "    )\n",
    "    inputs = tokenizer(prompt, return_tensors=\"pt\").to(model.device)\n",
    "\n",
    "    with torch.no_grad():\n",
    "        outputs = model.generate(\n",
    "            **inputs,\n",
    "            max_new_tokens=100,\n",
    "            do_sample=True,\n",
    "            temperature=0.001,\n",
    "            top_p=0.999,\n",
    "        )\n",
    "\n",
    "    return tokenizer.decode(outputs[0][len(inputs[0]):], skip_special_tokens=True)\n",
    "\n",
    "display(generate_answer(dataset[0]))"
   ]
  },
  {
   "cell_type": "code",
   "execution_count": 5,
   "metadata": {},
   "outputs": [
    {
     "name": "stdout",
     "output_type": "stream",
     "text": [
      "0: <|user|>\n",
      "You are a helpful Vietnamese medical AI assistant. Answer the following multiple choice questions in Vietnamese regarding medical scenarios in the following format:\n",
      "\n",
      "Mỗi phân tử kháng thể IgG đơn phân trong huyết thanh có bao nhiêu chuỗi polypeptide \n",
      "\n",
      "A. 1\n",
      "B. 2\n",
      "C. 4\n",
      "D. 10<|end|>\n",
      "<|assistant|>\n",
      "C. 4<|end|>\n",
      "<|user|>\n",
      "Một phân tử IgM trong huyết thanh có mấy vị trí kết hợp kháng nguyên \n",
      "\n",
      "A. 1\n",
      "B. 2\n",
      "C. 5\n",
      "D. 10<|end|>\n",
      "<|assistant|>\n",
      "\n",
      "\n",
      "2: <|user|>\n",
      "You are a helpful Vietnamese medical AI assistant. Answer the following multiple choice questions in Vietnamese regarding medical scenarios in the following format:\n",
      "\n",
      "Mỗi phân tử kháng thể IgG đơn phân trong huyết thanh có bao nhiêu chuỗi polypeptide \n",
      "\n",
      "A. 1\n",
      "B. 2\n",
      "C. 4\n",
      "D. 10<|end|>\n",
      "<|assistant|>\n",
      "C. 4<|end|>\n",
      "<|user|>\n",
      "Tế bào sản xuất kháng thể là \n",
      "\n",
      "A. lympho bào B\n",
      "B. lympho bào T\n",
      "C. tế bào plasma (tuơng bào, plasmocyte)\n",
      "D. đại thực bào<|end|>\n",
      "<|assistant|>\n",
      "\n",
      "\n",
      "1: <|user|>\n",
      "You are a helpful Vietnamese medical AI assistant. Answer the following multiple choice questions in Vietnamese regarding medical scenarios in the following format:\n",
      "\n",
      "Mỗi phân tử kháng thể IgG đơn phân trong huyết thanh có bao nhiêu chuỗi polypeptide \n",
      "\n",
      "A. 1\n",
      "B. 2\n",
      "C. 4\n",
      "D. 10<|end|>\n",
      "<|assistant|>\n",
      "C. 4<|end|>\n",
      "<|user|>\n",
      "Một phân tử IgM hoàn chỉnh trong huyết thanh cấu tạo bởi bao nhiêu chuỗi polypeptide \n",
      "\n",
      "A. 4\n",
      "B. 5\n",
      "C. 10\n",
      "D. Tất cả đều đúng<|end|>\n",
      "<|assistant|>\n",
      "\n",
      "\n"
     ]
    }
   ],
   "source": [
    "def generate_prompt(sample) -> str:\n",
    "    messages = example_messages + compile_messages(sample)\n",
    "    return tokenizer.apply_chat_template(\n",
    "        messages, tokenize=False, add_generation_prompt=True\n",
    "    )\n",
    "\n",
    "example_indexed_prompts = sorted(\n",
    "    enumerate(map(generate_prompt, dataset.select(range(3)))),\n",
    "    key=lambda i_pmpt: len(i_pmpt[1])\n",
    ")\n",
    "\n",
    "for i, prompt in example_indexed_prompts:\n",
    "    print(f\"{i}: {prompt}\\n\")"
   ]
  },
  {
   "cell_type": "code",
   "execution_count": 6,
   "metadata": {},
   "outputs": [
    {
     "data": {
      "text/plain": [
       "tensor([[32000, 32000, 32000, 32000, 32000, 32000, 32000, 32000, 32000, 32000,\n",
       "         32000, 32000, 32000, 32000, 32000, 32000, 32000, 32000, 32000, 32000,\n",
       "         32000, 32000, 32000, 32000, 32000, 32010,   887,   526,   263,  8444,\n",
       "         18444,   968, 16083,   319, 29902, 20255, 29889,   673,   278,  1494,\n",
       "          2999,  7348,  5155,   297, 18444,   968, 11211, 16083, 21846,   297,\n",
       "           278,  1494,  3402, 29901,    13,    13, 29924,   228,   190,   154,\n",
       "         29875,  1374, 10031,   260,   228,   190,   176,   413, 19990,   865,\n",
       "           266, 31957, 12815, 29954, 29871, 30128, 30556, 29876,  1374, 10031,\n",
       "           534,   549,   298,  8631, 30717, 29873,  1135, 29882, 28810,   289,\n",
       "          6241,   302,  2918, 30037, 29884,   521, 29884,   228,   190,   154,\n",
       "         29875,  1248,   668,   415,   680, 29871,    13,    13, 29909, 29889,\n",
       "         29871, 29896,    13, 29933, 29889, 29871, 29906,    13, 29907, 29889,\n",
       "         29871, 29946,    13, 29928, 29889, 29871, 29896, 29900, 32007, 32001,\n",
       "           315, 29889, 29871, 29946, 32007, 32010,   341, 30902, 29873,  1374,\n",
       "         10031,   260,   228,   190,   176, 12815, 29924,   534,   549,   298,\n",
       "          8631, 30717, 29873,  1135, 29882, 28810,   286, 31145, 29891,   325,\n",
       "         30740,   534, 29983,   413, 30717, 29873,   298, 31645, 29886,   413,\n",
       "         19990,   865,   302,  2543, 29891,  5512, 29871,    13,    13, 29909,\n",
       "         29889, 29871, 29896,    13, 29933, 29889, 29871, 29906,    13, 29907,\n",
       "         29889, 29871, 29945,    13, 29928, 29889, 29871, 29896, 29900, 32007,\n",
       "         32001],\n",
       "        [32000, 32000, 32000, 32000, 32000, 32000, 32000, 32000, 32000, 32000,\n",
       "         32010,   887,   526,   263,  8444, 18444,   968, 16083,   319, 29902,\n",
       "         20255, 29889,   673,   278,  1494,  2999,  7348,  5155,   297, 18444,\n",
       "           968, 11211, 16083, 21846,   297,   278,  1494,  3402, 29901,    13,\n",
       "            13, 29924,   228,   190,   154, 29875,  1374, 10031,   260,   228,\n",
       "           190,   176,   413, 19990,   865,   266, 31957, 12815, 29954, 29871,\n",
       "         30128, 30556, 29876,  1374, 10031,   534,   549,   298,  8631, 30717,\n",
       "         29873,  1135, 29882, 28810,   289,  6241,   302,  2918, 30037, 29884,\n",
       "           521, 29884,   228,   190,   154, 29875,  1248,   668,   415,   680,\n",
       "         29871,    13,    13, 29909, 29889, 29871, 29896,    13, 29933, 29889,\n",
       "         29871, 29906,    13, 29907, 29889, 29871, 29946,    13, 29928, 29889,\n",
       "         29871, 29896, 29900, 32007, 32001,   315, 29889, 29871, 29946, 32007,\n",
       "         32010,   323, 30717,   289, 30001, 29877,   269, 30643, 29876,   921,\n",
       "         29884, 31145, 29873,   413, 19990,   865,   266, 31957, 18916, 29871,\n",
       "            13,    13, 29909, 29889,   301,   962,   561, 29877,   289, 30001,\n",
       "         29877,   350,    13, 29933, 29889,   301,   962,   561, 29877,   289,\n",
       "         30001, 29877,   323,    13, 29907, 29889,   260, 30717,   289, 30001,\n",
       "         29877,   715, 25392,   313,  9161, 30556,   865,   289, 30001, 29877,\n",
       "         29892,   715, 11625, 22502,   371, 29897,    13, 29928, 29889, 29871,\n",
       "         30128, 30540, 29875,   266, 31874, 29883,   289, 30001, 29877, 32007,\n",
       "         32001],\n",
       "        [32010,   887,   526,   263,  8444, 18444,   968, 16083,   319, 29902,\n",
       "         20255, 29889,   673,   278,  1494,  2999,  7348,  5155,   297, 18444,\n",
       "           968, 11211, 16083, 21846,   297,   278,  1494,  3402, 29901,    13,\n",
       "            13, 29924,   228,   190,   154, 29875,  1374, 10031,   260,   228,\n",
       "           190,   176,   413, 19990,   865,   266, 31957, 12815, 29954, 29871,\n",
       "         30128, 30556, 29876,  1374, 10031,   534,   549,   298,  8631, 30717,\n",
       "         29873,  1135, 29882, 28810,   289,  6241,   302,  2918, 30037, 29884,\n",
       "           521, 29884,   228,   190,   154, 29875,  1248,   668,   415,   680,\n",
       "         29871,    13,    13, 29909, 29889, 29871, 29896,    13, 29933, 29889,\n",
       "         29871, 29906,    13, 29907, 29889, 29871, 29946,    13, 29928, 29889,\n",
       "         29871, 29896, 29900, 32007, 32001,   315, 29889, 29871, 29946, 32007,\n",
       "         32010,   341, 30902, 29873,  1374, 10031,   260,   228,   190,   176,\n",
       "         12815, 29924,  5089, 24267,   521,   228,   190,   140, 29876, 29882,\n",
       "           534,   549,   298,  8631, 30717, 29873,  1135, 29882,   274, 31145,\n",
       "         29884,   260, 30540, 29877,   289,   228,   190,   162, 29875,   289,\n",
       "          6241,   302,  2918, 30037, 29884,   521, 29884,   228,   190,   154,\n",
       "         29875,  1248,   668,   415,   680, 29871,    13,    13, 29909, 29889,\n",
       "         29871, 29946,    13, 29933, 29889, 29871, 29945,    13, 29907, 29889,\n",
       "         29871, 29896, 29900,    13, 29928, 29889,   323, 31145, 29873,   274,\n",
       "         30643, 29871, 30128, 31343, 29884, 29871, 30128, 30030,   865, 32007,\n",
       "         32001]])"
      ]
     },
     "metadata": {},
     "output_type": "display_data"
    },
    {
     "data": {
      "text/plain": [
       "tensor([[0, 0, 0, 0, 0, 0, 0, 0, 0, 0, 0, 0, 0, 0, 0, 0, 0, 0, 0, 0, 0, 0, 0, 0,\n",
       "         0, 1, 1, 1, 1, 1, 1, 1, 1, 1, 1, 1, 1, 1, 1, 1, 1, 1, 1, 1, 1, 1, 1, 1,\n",
       "         1, 1, 1, 1, 1, 1, 1, 1, 1, 1, 1, 1, 1, 1, 1, 1, 1, 1, 1, 1, 1, 1, 1, 1,\n",
       "         1, 1, 1, 1, 1, 1, 1, 1, 1, 1, 1, 1, 1, 1, 1, 1, 1, 1, 1, 1, 1, 1, 1, 1,\n",
       "         1, 1, 1, 1, 1, 1, 1, 1, 1, 1, 1, 1, 1, 1, 1, 1, 1, 1, 1, 1, 1, 1, 1, 1,\n",
       "         1, 1, 1, 1, 1, 1, 1, 1, 1, 1, 1, 1, 1, 1, 1, 1, 1, 1, 1, 1, 1, 1, 1, 1,\n",
       "         1, 1, 1, 1, 1, 1, 1, 1, 1, 1, 1, 1, 1, 1, 1, 1, 1, 1, 1, 1, 1, 1, 1, 1,\n",
       "         1, 1, 1, 1, 1, 1, 1, 1, 1, 1, 1, 1, 1, 1, 1, 1, 1, 1, 1, 1, 1, 1, 1, 1,\n",
       "         1, 1, 1, 1, 1, 1, 1, 1, 1],\n",
       "        [0, 0, 0, 0, 0, 0, 0, 0, 0, 0, 1, 1, 1, 1, 1, 1, 1, 1, 1, 1, 1, 1, 1, 1,\n",
       "         1, 1, 1, 1, 1, 1, 1, 1, 1, 1, 1, 1, 1, 1, 1, 1, 1, 1, 1, 1, 1, 1, 1, 1,\n",
       "         1, 1, 1, 1, 1, 1, 1, 1, 1, 1, 1, 1, 1, 1, 1, 1, 1, 1, 1, 1, 1, 1, 1, 1,\n",
       "         1, 1, 1, 1, 1, 1, 1, 1, 1, 1, 1, 1, 1, 1, 1, 1, 1, 1, 1, 1, 1, 1, 1, 1,\n",
       "         1, 1, 1, 1, 1, 1, 1, 1, 1, 1, 1, 1, 1, 1, 1, 1, 1, 1, 1, 1, 1, 1, 1, 1,\n",
       "         1, 1, 1, 1, 1, 1, 1, 1, 1, 1, 1, 1, 1, 1, 1, 1, 1, 1, 1, 1, 1, 1, 1, 1,\n",
       "         1, 1, 1, 1, 1, 1, 1, 1, 1, 1, 1, 1, 1, 1, 1, 1, 1, 1, 1, 1, 1, 1, 1, 1,\n",
       "         1, 1, 1, 1, 1, 1, 1, 1, 1, 1, 1, 1, 1, 1, 1, 1, 1, 1, 1, 1, 1, 1, 1, 1,\n",
       "         1, 1, 1, 1, 1, 1, 1, 1, 1],\n",
       "        [1, 1, 1, 1, 1, 1, 1, 1, 1, 1, 1, 1, 1, 1, 1, 1, 1, 1, 1, 1, 1, 1, 1, 1,\n",
       "         1, 1, 1, 1, 1, 1, 1, 1, 1, 1, 1, 1, 1, 1, 1, 1, 1, 1, 1, 1, 1, 1, 1, 1,\n",
       "         1, 1, 1, 1, 1, 1, 1, 1, 1, 1, 1, 1, 1, 1, 1, 1, 1, 1, 1, 1, 1, 1, 1, 1,\n",
       "         1, 1, 1, 1, 1, 1, 1, 1, 1, 1, 1, 1, 1, 1, 1, 1, 1, 1, 1, 1, 1, 1, 1, 1,\n",
       "         1, 1, 1, 1, 1, 1, 1, 1, 1, 1, 1, 1, 1, 1, 1, 1, 1, 1, 1, 1, 1, 1, 1, 1,\n",
       "         1, 1, 1, 1, 1, 1, 1, 1, 1, 1, 1, 1, 1, 1, 1, 1, 1, 1, 1, 1, 1, 1, 1, 1,\n",
       "         1, 1, 1, 1, 1, 1, 1, 1, 1, 1, 1, 1, 1, 1, 1, 1, 1, 1, 1, 1, 1, 1, 1, 1,\n",
       "         1, 1, 1, 1, 1, 1, 1, 1, 1, 1, 1, 1, 1, 1, 1, 1, 1, 1, 1, 1, 1, 1, 1, 1,\n",
       "         1, 1, 1, 1, 1, 1, 1, 1, 1]])"
      ]
     },
     "metadata": {},
     "output_type": "display_data"
    }
   ],
   "source": [
    "from more_itertools import unzip\n",
    "\n",
    "_, example_prompts = unzip(example_indexed_prompts)\n",
    "example_batch = tokenizer(list(example_prompts), padding=True, return_tensors=\"pt\")\n",
    "display(example_batch[\"input_ids\"])\n",
    "display(example_batch[\"attention_mask\"])"
   ]
  },
  {
   "cell_type": "code",
   "execution_count": 7,
   "metadata": {},
   "outputs": [
    {
     "data": {
      "text/plain": [
       "torch.Size([3, 201])"
      ]
     },
     "execution_count": 7,
     "metadata": {},
     "output_type": "execute_result"
    }
   ],
   "source": [
    "example_batch[\"input_ids\"].shape"
   ]
  },
  {
   "cell_type": "code",
   "execution_count": 8,
   "metadata": {},
   "outputs": [
    {
     "name": "stdout",
     "output_type": "stream",
     "text": [
      "0: C. 5\n",
      "2: C. tế bào plasma (tuơng bào, plasmocyte)\n",
      "1: B. 5\n",
      "\n",
      "\n",
      "Để giải thích điều này, ta sẽ xem xét cấu trúc của IgM, một loài nhân vi sinh thị không thể được biểu diễn bởi một phân tử IgM hoàn chỉnh.\n"
     ]
    }
   ],
   "source": [
    "example_batch_len = example_batch[\"input_ids\"].shape[1]\n",
    "\n",
    "with torch.no_grad():\n",
    "    batch_outputs = model.generate(\n",
    "        **example_batch.to(model.device),\n",
    "        max_new_tokens=100,\n",
    "        do_sample=True,\n",
    "        temperature=0.001,\n",
    "        top_p=0.999,\n",
    "    )\n",
    "\n",
    "for (j, _), output in zip(example_indexed_prompts, batch_outputs):\n",
    "    print(f\"{j}:\", end=\" \")\n",
    "    print(tokenizer.decode(output[example_batch_len:], skip_special_tokens=True))"
   ]
  },
  {
   "cell_type": "code",
   "execution_count": 9,
   "metadata": {},
   "outputs": [
    {
     "name": "stderr",
     "output_type": "stream",
     "text": [
      "Batch: 100%|██████████| 3/3 [00:09<00:00,  3.13s/it]\n"
     ]
    },
    {
     "data": {
      "text/plain": [
       "['C. 5',\n",
       " 'B. 5\\n\\n\\nĐể giải thích điều này, ta sẽ xem xét cấu trúc của IgM, một loài nhân vi sinh thị không thể được biểu diễn bởi một phân tử IgM hoàn chỉnh.',\n",
       " 'C. tế bào plasma (tuơng bào, plasmocyte)',\n",
       " 'D. IgM và IgG',\n",
       " 'C. IgA và IgM',\n",
       " 'D. đưa giải độc tố uốn ván vào cơ thể nhằm tạo đáp ứng miễn dịch chủ động chống uốn ván',\n",
       " 'B. đưa kháng nguyên mầm bệnh vào cơ thể nhằm tạo ra trạng thái miễn dịch chủ động chống mầm bệnh khi mầm bệnh xâm nhập vào cơ thể được tiêm (hoặ',\n",
       " 'A. glycoprotein',\n",
       " 'C. kết hợp với vật lạ',\n",
       " 'C. IgM',\n",
       " 'C. IgM',\n",
       " 'A. IgG']"
      ]
     },
     "metadata": {},
     "output_type": "display_data"
    }
   ],
   "source": [
    "from more_itertools import unzip\n",
    "from tqdm import tqdm\n",
    "\n",
    "def generate_answers_batched(dataset, batch_size=8):\n",
    "    all_predictions = dict[int, str]()\n",
    "    indexed_prompts = sorted(\n",
    "        enumerate(map(generate_prompt, dataset)),\n",
    "        key=lambda i_prompt: len(i_prompt[1])\n",
    "    )\n",
    "\n",
    "    for i in tqdm(range(0, len(indexed_prompts), batch_size), desc=\"Batch\"):\n",
    "        batch_idxs, batch_prompts = unzip(indexed_prompts[i: i + batch_size])\n",
    "        batch_idxs, batch_prompts = list(batch_idxs), list(batch_prompts)\n",
    "\n",
    "        batch_inputs = tokenizer(batch_prompts, padding=True, return_tensors=\"pt\")\n",
    "        batch_input_length = batch_inputs[\"input_ids\"].shape[1]\n",
    "\n",
    "        with torch.no_grad():\n",
    "            batch_outputs = model.generate(\n",
    "                **batch_inputs.to(model.device),\n",
    "                max_new_tokens=100,\n",
    "                do_sample=True,\n",
    "                temperature=0.001,\n",
    "                top_p=0.999,\n",
    "            )\n",
    "\n",
    "        for j, output in zip(batch_idxs, batch_outputs):\n",
    "            all_predictions[j] = tokenizer.decode(\n",
    "                output[batch_input_length:], skip_special_tokens=True\n",
    "            )\n",
    "\n",
    "    return dataset.add_column(\n",
    "        \"Prediction\", [all_predictions[i] for i in range(len(dataset))]\n",
    "    )\n",
    "\n",
    "example_preds = generate_answers_batched(dataset.select(range(12)), batch_size=4)\n",
    "display(example_preds[\"Prediction\"])"
   ]
  },
  {
   "cell_type": "code",
   "execution_count": 10,
   "metadata": {},
   "outputs": [
    {
     "name": "stderr",
     "output_type": "stream",
     "text": [
      "Batch: 100%|██████████| 25/25 [00:35<00:00,  1.43s/it]\n"
     ]
    },
    {
     "data": {
      "text/html": [
       "<div>\n",
       "<style scoped>\n",
       "    .dataframe tbody tr th:only-of-type {\n",
       "        vertical-align: middle;\n",
       "    }\n",
       "\n",
       "    .dataframe tbody tr th {\n",
       "        vertical-align: top;\n",
       "    }\n",
       "\n",
       "    .dataframe thead th {\n",
       "        text-align: right;\n",
       "    }\n",
       "</style>\n",
       "<table border=\"1\" class=\"dataframe\">\n",
       "  <thead>\n",
       "    <tr style=\"text-align: right;\">\n",
       "      <th></th>\n",
       "      <th>Answer</th>\n",
       "      <th>ID</th>\n",
       "      <th>Question</th>\n",
       "      <th>Choices</th>\n",
       "      <th>Prediction</th>\n",
       "    </tr>\n",
       "  </thead>\n",
       "  <tbody>\n",
       "    <tr>\n",
       "      <th>0</th>\n",
       "      <td>D. 10</td>\n",
       "      <td>2</td>\n",
       "      <td>Một phân tử IgM trong huyết thanh có mấy vị tr...</td>\n",
       "      <td>[A. 1, B. 2, C. 5, D. 10]</td>\n",
       "      <td>C. 5</td>\n",
       "    </tr>\n",
       "    <tr>\n",
       "      <th>1</th>\n",
       "      <td>D. Tất cả đều đúng</td>\n",
       "      <td>3</td>\n",
       "      <td>Một phân tử IgM hoàn chỉnh trong huyết thanh c...</td>\n",
       "      <td>[A. 4, B. 5, C. 10, D. Tất cả đều đúng]</td>\n",
       "      <td>B. 5\\n\\n\\nĐể giải thích điều này, ta sẽ xem xé...</td>\n",
       "    </tr>\n",
       "    <tr>\n",
       "      <th>2</th>\n",
       "      <td>C. tế bào plasma (tuơng bào, plasmocyte)</td>\n",
       "      <td>4</td>\n",
       "      <td>Tế bào sản xuất kháng thể là</td>\n",
       "      <td>[A. lympho bào B, B. lympho bào T, C. tế bào p...</td>\n",
       "      <td>C. tế bào plasma (tuơng bào, plasmocyte)</td>\n",
       "    </tr>\n",
       "    <tr>\n",
       "      <th>3</th>\n",
       "      <td>C. IgG</td>\n",
       "      <td>5</td>\n",
       "      <td>Lớp kháng thể nào có thể đi qua được màng rau ...</td>\n",
       "      <td>[A. IgM, B. IgA, C. IgG, D. IgM và IgG]</td>\n",
       "      <td>D. IgM và IgG</td>\n",
       "    </tr>\n",
       "    <tr>\n",
       "      <th>4</th>\n",
       "      <td>D. IgM</td>\n",
       "      <td>6</td>\n",
       "      <td>Kháng thể tự nhiên chống kháng nguyên hồng cầu...</td>\n",
       "      <td>[A. IgG, B. IgG và IgA, C. IgA và IgM, D. IgM]</td>\n",
       "      <td>C. IgA và IgM</td>\n",
       "    </tr>\n",
       "    <tr>\n",
       "      <th>...</th>\n",
       "      <td>...</td>\n",
       "      <td>...</td>\n",
       "      <td>...</td>\n",
       "      <td>...</td>\n",
       "      <td>...</td>\n",
       "    </tr>\n",
       "    <tr>\n",
       "      <th>95</th>\n",
       "      <td>C. nhiễm virut</td>\n",
       "      <td>97</td>\n",
       "      <td>Hình thức đáp ứng miễn dịch qua trung gian tế ...</td>\n",
       "      <td>[A. nhiễm vi khuẩn lao, B. nhiễm vi khuẩn tả, ...</td>\n",
       "      <td>A. nhiễm vi khuẩn lao</td>\n",
       "    </tr>\n",
       "    <tr>\n",
       "      <th>96</th>\n",
       "      <td>C. nhiễm virut</td>\n",
       "      <td>98</td>\n",
       "      <td>Hình thức đáp ứng miễn dịch qua trung gian tế ...</td>\n",
       "      <td>[A. nhiễm vi khuẩn lao, B. nhiễm vi khuẩn tả, ...</td>\n",
       "      <td>A. nhiễm vi khuẩn lao</td>\n",
       "    </tr>\n",
       "    <tr>\n",
       "      <th>97</th>\n",
       "      <td>D. Typ IV: Quá mẫn trung gian tế bào</td>\n",
       "      <td>99</td>\n",
       "      <td>Phản ứng quá mẫn gây ra bệnh viêm da tiếp xúc ...</td>\n",
       "      <td>[A. Typ I: Quá mẫn kiểu phản vệ, B. Typ II: Qu...</td>\n",
       "      <td>B. Typ II: Quá mẫn độc tế bào</td>\n",
       "    </tr>\n",
       "    <tr>\n",
       "      <th>98</th>\n",
       "      <td>A. Typ I: Quá mẫn kiểu phản vệ</td>\n",
       "      <td>100</td>\n",
       "      <td>Phù mặt diễn ra nhanh sau khi bị ong đốt thuôc...</td>\n",
       "      <td>[A. Typ I: Quá mẫn kiểu phản vệ, B. Typ II: Qu...</td>\n",
       "      <td>B. Typ II: Quá mẫn độc tế bào</td>\n",
       "    </tr>\n",
       "    <tr>\n",
       "      <th>99</th>\n",
       "      <td>B. Typ II: Quá mẫn độc tế bào</td>\n",
       "      <td>101</td>\n",
       "      <td>Phản ứng quá mẫn gây ra bệnh thiếu máu tan huy...</td>\n",
       "      <td>[A. Typ I: Quá mẫn kiểu phản vệ, B. Typ II: Qu...</td>\n",
       "      <td>B. Typ II: Quá mẫn độc tế bào</td>\n",
       "    </tr>\n",
       "  </tbody>\n",
       "</table>\n",
       "<p>100 rows × 5 columns</p>\n",
       "</div>"
      ],
      "text/plain": [
       "                                      Answer   ID  \\\n",
       "0                                      D. 10    2   \n",
       "1                         D. Tất cả đều đúng    3   \n",
       "2   C. tế bào plasma (tuơng bào, plasmocyte)    4   \n",
       "3                                     C. IgG    5   \n",
       "4                                     D. IgM    6   \n",
       "..                                       ...  ...   \n",
       "95                            C. nhiễm virut   97   \n",
       "96                            C. nhiễm virut   98   \n",
       "97      D. Typ IV: Quá mẫn trung gian tế bào   99   \n",
       "98            A. Typ I: Quá mẫn kiểu phản vệ  100   \n",
       "99             B. Typ II: Quá mẫn độc tế bào  101   \n",
       "\n",
       "                                             Question  \\\n",
       "0   Một phân tử IgM trong huyết thanh có mấy vị tr...   \n",
       "1   Một phân tử IgM hoàn chỉnh trong huyết thanh c...   \n",
       "2                       Tế bào sản xuất kháng thể là    \n",
       "3   Lớp kháng thể nào có thể đi qua được màng rau ...   \n",
       "4   Kháng thể tự nhiên chống kháng nguyên hồng cầu...   \n",
       "..                                                ...   \n",
       "95  Hình thức đáp ứng miễn dịch qua trung gian tế ...   \n",
       "96  Hình thức đáp ứng miễn dịch qua trung gian tế ...   \n",
       "97  Phản ứng quá mẫn gây ra bệnh viêm da tiếp xúc ...   \n",
       "98  Phù mặt diễn ra nhanh sau khi bị ong đốt thuôc...   \n",
       "99  Phản ứng quá mẫn gây ra bệnh thiếu máu tan huy...   \n",
       "\n",
       "                                              Choices  \\\n",
       "0                           [A. 1, B. 2, C. 5, D. 10]   \n",
       "1             [A. 4, B. 5, C. 10, D. Tất cả đều đúng]   \n",
       "2   [A. lympho bào B, B. lympho bào T, C. tế bào p...   \n",
       "3             [A. IgM, B. IgA, C. IgG, D. IgM và IgG]   \n",
       "4      [A. IgG, B. IgG và IgA, C. IgA và IgM, D. IgM]   \n",
       "..                                                ...   \n",
       "95  [A. nhiễm vi khuẩn lao, B. nhiễm vi khuẩn tả, ...   \n",
       "96  [A. nhiễm vi khuẩn lao, B. nhiễm vi khuẩn tả, ...   \n",
       "97  [A. Typ I: Quá mẫn kiểu phản vệ, B. Typ II: Qu...   \n",
       "98  [A. Typ I: Quá mẫn kiểu phản vệ, B. Typ II: Qu...   \n",
       "99  [A. Typ I: Quá mẫn kiểu phản vệ, B. Typ II: Qu...   \n",
       "\n",
       "                                           Prediction  \n",
       "0                                                C. 5  \n",
       "1   B. 5\\n\\n\\nĐể giải thích điều này, ta sẽ xem xé...  \n",
       "2            C. tế bào plasma (tuơng bào, plasmocyte)  \n",
       "3                                       D. IgM và IgG  \n",
       "4                                       C. IgA và IgM  \n",
       "..                                                ...  \n",
       "95                              A. nhiễm vi khuẩn lao  \n",
       "96                              A. nhiễm vi khuẩn lao  \n",
       "97                      B. Typ II: Quá mẫn độc tế bào  \n",
       "98                      B. Typ II: Quá mẫn độc tế bào  \n",
       "99                      B. Typ II: Quá mẫn độc tế bào  \n",
       "\n",
       "[100 rows x 5 columns]"
      ]
     },
     "metadata": {},
     "output_type": "display_data"
    }
   ],
   "source": [
    "dataset = generate_answers_batched(dataset, batch_size=4)\n",
    "display(dataset.to_pandas())"
   ]
  },
  {
   "cell_type": "code",
   "execution_count": 11,
   "metadata": {},
   "outputs": [
    {
     "data": {
      "text/plain": [
       "['A. 1', 'B. 2', 'C. 5', 'D. 10']"
      ]
     },
     "execution_count": 11,
     "metadata": {},
     "output_type": "execute_result"
    }
   ],
   "source": [
    "dataset[0][\"Choices\"]"
   ]
  },
  {
   "cell_type": "code",
   "execution_count": 12,
   "metadata": {},
   "outputs": [
    {
     "name": "stdout",
     "output_type": "stream",
     "text": [
      "Format Accuracy: 0.93\n",
      "Answer Accuracy: 0.35\n"
     ]
    }
   ],
   "source": [
    "fmt_acc = sum(\n",
    "    pred.strip() in map(str.strip, choices)\n",
    "    for pred, choices in zip(dataset[\"Prediction\"], dataset[\"Choices\"])\n",
    ") / len(dataset)\n",
    "ans_acc = sum(\n",
    "    pred.strip() == ans.strip()\n",
    "    for pred, ans in zip(dataset[\"Prediction\"], dataset[\"Answer\"])\n",
    ") / len(dataset)\n",
    "print(f\"Format Accuracy: {fmt_acc}\")\n",
    "print(f\"Answer Accuracy: {ans_acc}\")"
   ]
  }
 ],
 "metadata": {
  "kernelspec": {
   "display_name": "Python 3",
   "language": "python",
   "name": "python3"
  },
  "language_info": {
   "codemirror_mode": {
    "name": "ipython",
    "version": 3
   },
   "file_extension": ".py",
   "mimetype": "text/x-python",
   "name": "python",
   "nbconvert_exporter": "python",
   "pygments_lexer": "ipython3",
   "version": "3.10.16"
  }
 },
 "nbformat": 4,
 "nbformat_minor": 2
}
