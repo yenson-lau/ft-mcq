{
 "cells": [
  {
   "cell_type": "code",
   "execution_count": null,
   "metadata": {
    "tags": [
     "parameters"
    ]
   },
   "outputs": [],
   "source": [
    "model_id: str = (\n",
    "    # \"microsoft/Phi-3-mini-128k-instruct\"\n",
    "    \"model_artifacts/Phi-3-mini-dpo-sardukar\"\n",
    ")\n",
    "config: str = \"anatomy\"\n",
    "eval_split: str = \"test\"\n",
    "instruction_type: str = \"cot\""
   ]
  },
  {
   "cell_type": "code",
   "execution_count": 2,
   "metadata": {},
   "outputs": [
    {
     "data": {
      "text/plain": [
       "Dataset({\n",
       "    features: ['question', 'subject', 'choices', 'answer'],\n",
       "    num_rows: 135\n",
       "})"
      ]
     },
     "metadata": {},
     "output_type": "display_data"
    },
    {
     "data": {
      "text/plain": [
       "{'question': 'A lesion causing compression of the facial nerve at the stylomastoid foramen will cause ipsilateral',\n",
       " 'subject': 'anatomy',\n",
       " 'choices': ['paralysis of the facial muscles.',\n",
       "  'paralysis of the facial muscles and loss of taste.',\n",
       "  'paralysis of the facial muscles, loss of taste and lacrimation.',\n",
       "  'paralysis of the facial muscles, loss of taste, lacrimation and decreased salivation.'],\n",
       " 'answer': 0}"
      ]
     },
     "metadata": {},
     "output_type": "display_data"
    }
   ],
   "source": [
    "from datasets import load_dataset\n",
    "\n",
    "dataset = load_dataset(\"cais/mmlu\", config, split=eval_split)\n",
    "\n",
    "display(dataset)\n",
    "display(dataset[0])"
   ]
  },
  {
   "cell_type": "code",
   "execution_count": 3,
   "metadata": {},
   "outputs": [
    {
     "name": "stderr",
     "output_type": "stream",
     "text": [
      "Note: Environment variable`HF_TOKEN` is set and is the current active token independently from the token you've just configured.\n"
     ]
    },
    {
     "name": "stdout",
     "output_type": "stream",
     "text": [
      "hf_AAlNN************************hCQBo\n"
     ]
    }
   ],
   "source": [
    "import os\n",
    "from dotenv import load_dotenv\n",
    "from huggingface_hub import login\n",
    "\n",
    "load_dotenv(\"../.env\")\n",
    "hf_token = os.environ[\"HF_TOKEN\"]\n",
    "print(hf_token[:8] + \"*\" * (len(hf_token) - 13) + hf_token[-5:])\n",
    "\n",
    "login(hf_token)"
   ]
  },
  {
   "cell_type": "code",
   "execution_count": 4,
   "metadata": {},
   "outputs": [
    {
     "data": {
      "application/vnd.jupyter.widget-view+json": {
       "model_id": "2fea2a7c1b554b38a082a9ad3cf3c26c",
       "version_major": 2,
       "version_minor": 0
      },
      "text/plain": [
       "Loading checkpoint shards:   0%|          | 0/2 [00:00<?, ?it/s]"
      ]
     },
     "metadata": {},
     "output_type": "display_data"
    }
   ],
   "source": [
    "import torch\n",
    "from transformers import AutoModelForCausalLM, AutoTokenizer, BitsAndBytesConfig\n",
    "\n",
    "bnb_config = BitsAndBytesConfig(\n",
    "    load_in_4bit=True,\n",
    "    bnb_4bit_use_double_quant=True,\n",
    "    bnb_4bit_quant_type=\"nf4\",\n",
    "    bnb_4bit_compute_dtype=torch.float16\n",
    ")\n",
    "if \"gemma\" in model_id:\n",
    "    bnb_config = None\n",
    "\n",
    "model = AutoModelForCausalLM.from_pretrained(\n",
    "    model_id,\n",
    "    device_map=\"auto\",\n",
    "    quantization_config=bnb_config,\n",
    "    attn_implementation=(\"eager\" if \"gemma\" in model_id else None),\n",
    ")\n",
    "tokenizer = AutoTokenizer.from_pretrained(model_id)"
   ]
  },
  {
   "cell_type": "code",
   "execution_count": 5,
   "metadata": {},
   "outputs": [
    {
     "name": "stdout",
     "output_type": "stream",
     "text": [
      "You are an expert on anatomy who is tasked with answering multiple choice questions as shown in the example below.\n",
      "Think step by step. Return the answer at the end of the response after a separator ####.\n",
      "\n",
      "Example: How many legs does a banana have?\n",
      "\n",
      "A: 0\n",
      "B: 1\n",
      "C: 2\n",
      "D: 3\n",
      "\n",
      "Answer: A banana is not an animal; therefore it has no legs. The correct answer is A. #### A\n",
      "\n",
      "Question: A lesion causing compression of the facial nerve at the stylomastoid foramen will cause ipsilateral\n",
      "\n",
      "A: paralysis of the facial muscles.\n",
      "B: paralysis of the facial muscles and loss of taste.\n",
      "C: paralysis of the facial muscles, loss of taste and lacrimation.\n",
      "D: paralysis of the facial muscles, loss of taste, lacrimation and decreased salivation.\n",
      "\n",
      "Answer: \n"
     ]
    }
   ],
   "source": [
    "answer_map = [\"A\", \"B\", \"C\", \"D\"]\n",
    "\n",
    "user_message_template = \"\"\"\n",
    "You are an expert on {config} who is tasked with answering multiple choice questions as shown in the example below.\n",
    "{instruction}\n",
    "\n",
    "Example: How many legs does a banana have?\n",
    "\n",
    "A: 0\n",
    "B: 1\n",
    "C: 2\n",
    "D: 3\n",
    "\n",
    "Answer: {example_answer}\n",
    "\n",
    "Question: {question}\n",
    "\n",
    "{choices}\n",
    "\n",
    "Answer: \"\"\"[1:]\n",
    "\n",
    "instructions = {\n",
    "    \"standard\": (\n",
    "        \"Provide only your final letter choice with no explanations. No yapping.\",\n",
    "        \"A\"\n",
    "    ),\n",
    "    \"cod\": (\n",
    "        \"Think step by step. Return the answer at the end of the response after a separator ####.\",\n",
    "        \"Step 1: A banana is not an animal. Step 2: Therefore it has no legs. Step 3: The correct answer is A. #### A\"\n",
    "    ),\n",
    "    \"cot\": (\n",
    "        \"Think step by step. Return the answer at the end of the response after a separator ####.\",\n",
    "        \"A banana is not an animal; therefore it has no legs. The correct answer is A. #### A\"\n",
    "    ),\n",
    "}\n",
    "\n",
    "def generate_user_message(sample: dict, instruction_type: str = instruction_type) -> str:\n",
    "    instruction, example_answer = instructions[instruction_type]\n",
    "    return user_message_template.format(\n",
    "        config=config,\n",
    "        instruction=instruction,\n",
    "        example_answer=example_answer,\n",
    "        question=sample[\"question\"],\n",
    "        choices=\"\\n\".join(\n",
    "            f\"{answer_map[i]}: {choice}\"\n",
    "            for i, choice in enumerate(sample[\"choices\"])\n",
    "        )\n",
    "    )\n",
    "\n",
    "print(generate_user_message(dataset[0]))"
   ]
  },
  {
   "cell_type": "code",
   "execution_count": 6,
   "metadata": {},
   "outputs": [
    {
     "name": "stderr",
     "output_type": "stream",
     "text": [
      "Batch:   0%|          | 0/2 [00:00<?, ?it/s]"
     ]
    },
    {
     "name": "stderr",
     "output_type": "stream",
     "text": [
      "Batch: 100%|██████████| 2/2 [00:08<00:00,  4.22s/it]\n"
     ]
    },
    {
     "data": {
      "text/plain": [
       "['The facial nerve (cranial nerve VII) is responsible for innervating the muscles of facial expression, carrying taste sensations from the anterior two-thirds of the tongue, and stimulating the lacrimal glands for tear production. A lesion at the stylomastoid foramen, which is the exit point of the facial nerve from the skull, would affect all these functions. Therefore, the correct answer is D. #### D',\n",
       " 'A \"dished face\" profile is often associated with a protruding mandible due to reactivation of the condylar cartilage by acromegaly. The correct answer is A. #### A',\n",
       " 'The structure that collects urine in the body is the bladder. The correct answer is A. #### A',\n",
       " 'Ectomesenchyme is a type of embryonic connective tissue that contributes to the formation of certain structures in the body. Among the options provided, skeletal muscles are derived from ectomesenchyme. Therefore, the correct answer is B. #### B']"
      ]
     },
     "metadata": {},
     "output_type": "display_data"
    }
   ],
   "source": [
    "from more_itertools import unzip\n",
    "from tqdm import tqdm\n",
    "\n",
    "def generate_prompt(sample) -> str:\n",
    "    user_message = generate_user_message(sample)\n",
    "    messages = [{\"role\": \"user\", \"content\": user_message}]\n",
    "    prompt = tokenizer.apply_chat_template(\n",
    "        messages, tokenize=False, add_generation_prompt=True\n",
    "    )\n",
    "    assert isinstance(prompt, str)\n",
    "    return prompt\n",
    "\n",
    "def batch_predict(dataset, batch_size=8):\n",
    "    all_predictions = dict[int, str]()\n",
    "    indexed_prompts = sorted(\n",
    "        enumerate(map(generate_prompt, dataset)),\n",
    "        key=lambda i_prompt: len(i_prompt[1])\n",
    "    )\n",
    "\n",
    "    for i in tqdm(range(0, len(indexed_prompts), batch_size), desc=\"Batch\"):\n",
    "        batch_idxs, batch_prompts = unzip(indexed_prompts[i: i + batch_size])\n",
    "        batch_idxs, batch_prompts = list(batch_idxs), list(batch_prompts)\n",
    "\n",
    "        batch_inputs = tokenizer(batch_prompts, padding=True, return_tensors=\"pt\")\n",
    "        batch_input_length = batch_inputs[\"input_ids\"].shape[1]\n",
    "\n",
    "        with torch.no_grad():\n",
    "            batch_outputs = model.generate(\n",
    "                **batch_inputs.to(model.device),\n",
    "                max_new_tokens=512,\n",
    "                do_sample=True,\n",
    "                temperature=0.001,\n",
    "                top_p=0.999,\n",
    "            )\n",
    "\n",
    "        for j, output in zip(batch_idxs, batch_outputs):\n",
    "            all_predictions[j] = tokenizer.decode(\n",
    "                output[batch_input_length:], skip_special_tokens=True\n",
    "            )\n",
    "\n",
    "    return dataset.add_column(\n",
    "        \"prediction\", [all_predictions[i] for i in range(len(dataset))]\n",
    "    )\n",
    "\n",
    "example_preds = batch_predict(dataset.select(range(4)), batch_size=2)\n",
    "display(example_preds[\"prediction\"])"
   ]
  },
  {
   "cell_type": "code",
   "execution_count": 7,
   "metadata": {},
   "outputs": [
    {
     "name": "stderr",
     "output_type": "stream",
     "text": [
      "Batch: 100%|██████████| 17/17 [02:06<00:00,  7.42s/it]\n"
     ]
    },
    {
     "data": {
      "application/vnd.jupyter.widget-view+json": {
       "model_id": "3efd2a458ad2495f8b6bc3f99a3a7afe",
       "version_major": 2,
       "version_minor": 0
      },
      "text/plain": [
       "Map:   0%|          | 0/135 [00:00<?, ? examples/s]"
      ]
     },
     "metadata": {},
     "output_type": "display_data"
    },
    {
     "data": {
      "text/html": [
       "<div>\n",
       "<style scoped>\n",
       "    .dataframe tbody tr th:only-of-type {\n",
       "        vertical-align: middle;\n",
       "    }\n",
       "\n",
       "    .dataframe tbody tr th {\n",
       "        vertical-align: top;\n",
       "    }\n",
       "\n",
       "    .dataframe thead th {\n",
       "        text-align: right;\n",
       "    }\n",
       "</style>\n",
       "<table border=\"1\" class=\"dataframe\">\n",
       "  <thead>\n",
       "    <tr style=\"text-align: right;\">\n",
       "      <th></th>\n",
       "      <th>question</th>\n",
       "      <th>subject</th>\n",
       "      <th>choices</th>\n",
       "      <th>answer</th>\n",
       "      <th>prediction</th>\n",
       "      <th>answer_letter</th>\n",
       "      <th>prediction_letter</th>\n",
       "    </tr>\n",
       "  </thead>\n",
       "  <tbody>\n",
       "    <tr>\n",
       "      <th>0</th>\n",
       "      <td>A lesion causing compression of the facial ner...</td>\n",
       "      <td>anatomy</td>\n",
       "      <td>[paralysis of the facial muscles., paralysis o...</td>\n",
       "      <td>0</td>\n",
       "      <td>The facial nerve (cranial nerve VII) is respon...</td>\n",
       "      <td>A</td>\n",
       "      <td>D</td>\n",
       "    </tr>\n",
       "    <tr>\n",
       "      <th>1</th>\n",
       "      <td>A \"dished face\" profile is often associated with</td>\n",
       "      <td>anatomy</td>\n",
       "      <td>[a protruding mandible due to reactivation of ...</td>\n",
       "      <td>1</td>\n",
       "      <td>A \"dished face\" profile is often associated wi...</td>\n",
       "      <td>B</td>\n",
       "      <td>A</td>\n",
       "    </tr>\n",
       "    <tr>\n",
       "      <th>2</th>\n",
       "      <td>Which of the following best describes the stru...</td>\n",
       "      <td>anatomy</td>\n",
       "      <td>[Bladder, Kidney, Ureter, Urethra]</td>\n",
       "      <td>0</td>\n",
       "      <td>The structure that collects urine in the body ...</td>\n",
       "      <td>A</td>\n",
       "      <td>A</td>\n",
       "    </tr>\n",
       "    <tr>\n",
       "      <th>3</th>\n",
       "      <td>Which of the following structures is derived f...</td>\n",
       "      <td>anatomy</td>\n",
       "      <td>[Motor neurons, Skeletal muscles, Melanocytes,...</td>\n",
       "      <td>2</td>\n",
       "      <td>Ectomesenchyme is a type of embryonic connecti...</td>\n",
       "      <td>C</td>\n",
       "      <td>B</td>\n",
       "    </tr>\n",
       "    <tr>\n",
       "      <th>4</th>\n",
       "      <td>Which of the following describes the cluster o...</td>\n",
       "      <td>anatomy</td>\n",
       "      <td>[Afferent arteriole, Glomerulus, Loop of Henle...</td>\n",
       "      <td>1</td>\n",
       "      <td>The cluster of blood capillaries found in each...</td>\n",
       "      <td>B</td>\n",
       "      <td>B</td>\n",
       "    </tr>\n",
       "    <tr>\n",
       "      <th>...</th>\n",
       "      <td>...</td>\n",
       "      <td>...</td>\n",
       "      <td>...</td>\n",
       "      <td>...</td>\n",
       "      <td>...</td>\n",
       "      <td>...</td>\n",
       "      <td>...</td>\n",
       "    </tr>\n",
       "    <tr>\n",
       "      <th>130</th>\n",
       "      <td>The dorsal roots of all spinal nerves contain</td>\n",
       "      <td>anatomy</td>\n",
       "      <td>[sensory neuronal processes., sensory and auto...</td>\n",
       "      <td>0</td>\n",
       "      <td>The dorsal roots of all spinal nerves contain ...</td>\n",
       "      <td>A</td>\n",
       "      <td>A</td>\n",
       "    </tr>\n",
       "    <tr>\n",
       "      <th>131</th>\n",
       "      <td>Which of the following is the master gland of ...</td>\n",
       "      <td>anatomy</td>\n",
       "      <td>[Adrenal, Pancreas, Pineal, Pituitary]</td>\n",
       "      <td>3</td>\n",
       "      <td>The pituitary gland is known as the master gla...</td>\n",
       "      <td>D</td>\n",
       "      <td>D</td>\n",
       "    </tr>\n",
       "    <tr>\n",
       "      <th>132</th>\n",
       "      <td>Loss of somatic sensation over the anterior tw...</td>\n",
       "      <td>anatomy</td>\n",
       "      <td>[lingual branch of the mandibular trigeminal n...</td>\n",
       "      <td>0</td>\n",
       "      <td>The anterior two-thirds of the tongue's somati...</td>\n",
       "      <td>A</td>\n",
       "      <td>A</td>\n",
       "    </tr>\n",
       "    <tr>\n",
       "      <th>133</th>\n",
       "      <td>In men, specimens for gonococcal cultures are ...</td>\n",
       "      <td>anatomy</td>\n",
       "      <td>[Anus, Bladder, Urethra, Testicle]</td>\n",
       "      <td>2</td>\n",
       "      <td>Gonococcal cultures are used to diagnose infec...</td>\n",
       "      <td>C</td>\n",
       "      <td>C</td>\n",
       "    </tr>\n",
       "    <tr>\n",
       "      <th>134</th>\n",
       "      <td>Which of the following structures should be vi...</td>\n",
       "      <td>anatomy</td>\n",
       "      <td>[The mandibular canal, The mandibular canal an...</td>\n",
       "      <td>3</td>\n",
       "      <td>A dental panoramic radiograph is designed to c...</td>\n",
       "      <td>D</td>\n",
       "      <td>C</td>\n",
       "    </tr>\n",
       "  </tbody>\n",
       "</table>\n",
       "<p>135 rows × 7 columns</p>\n",
       "</div>"
      ],
      "text/plain": [
       "                                              question  subject  \\\n",
       "0    A lesion causing compression of the facial ner...  anatomy   \n",
       "1     A \"dished face\" profile is often associated with  anatomy   \n",
       "2    Which of the following best describes the stru...  anatomy   \n",
       "3    Which of the following structures is derived f...  anatomy   \n",
       "4    Which of the following describes the cluster o...  anatomy   \n",
       "..                                                 ...      ...   \n",
       "130      The dorsal roots of all spinal nerves contain  anatomy   \n",
       "131  Which of the following is the master gland of ...  anatomy   \n",
       "132  Loss of somatic sensation over the anterior tw...  anatomy   \n",
       "133  In men, specimens for gonococcal cultures are ...  anatomy   \n",
       "134  Which of the following structures should be vi...  anatomy   \n",
       "\n",
       "                                               choices  answer  \\\n",
       "0    [paralysis of the facial muscles., paralysis o...       0   \n",
       "1    [a protruding mandible due to reactivation of ...       1   \n",
       "2                   [Bladder, Kidney, Ureter, Urethra]       0   \n",
       "3    [Motor neurons, Skeletal muscles, Melanocytes,...       2   \n",
       "4    [Afferent arteriole, Glomerulus, Loop of Henle...       1   \n",
       "..                                                 ...     ...   \n",
       "130  [sensory neuronal processes., sensory and auto...       0   \n",
       "131             [Adrenal, Pancreas, Pineal, Pituitary]       3   \n",
       "132  [lingual branch of the mandibular trigeminal n...       0   \n",
       "133                 [Anus, Bladder, Urethra, Testicle]       2   \n",
       "134  [The mandibular canal, The mandibular canal an...       3   \n",
       "\n",
       "                                            prediction answer_letter  \\\n",
       "0    The facial nerve (cranial nerve VII) is respon...             A   \n",
       "1    A \"dished face\" profile is often associated wi...             B   \n",
       "2    The structure that collects urine in the body ...             A   \n",
       "3    Ectomesenchyme is a type of embryonic connecti...             C   \n",
       "4    The cluster of blood capillaries found in each...             B   \n",
       "..                                                 ...           ...   \n",
       "130  The dorsal roots of all spinal nerves contain ...             A   \n",
       "131  The pituitary gland is known as the master gla...             D   \n",
       "132  The anterior two-thirds of the tongue's somati...             A   \n",
       "133  Gonococcal cultures are used to diagnose infec...             C   \n",
       "134  A dental panoramic radiograph is designed to c...             D   \n",
       "\n",
       "    prediction_letter  \n",
       "0                   D  \n",
       "1                   A  \n",
       "2                   A  \n",
       "3                   B  \n",
       "4                   B  \n",
       "..                ...  \n",
       "130                 A  \n",
       "131                 D  \n",
       "132                 A  \n",
       "133                 C  \n",
       "134                 C  \n",
       "\n",
       "[135 rows x 7 columns]"
      ]
     },
     "metadata": {},
     "output_type": "display_data"
    }
   ],
   "source": [
    "def postprocess_predictions(sample: dict) -> dict:\n",
    "    prediction_letter = sample[\"prediction\"].split(\"####\")[-1].strip()\n",
    "    if len(prediction_letter) > 1:\n",
    "        prediction_letter = \"\"\n",
    "    return {\n",
    "        \"answer_letter\": answer_map[sample[\"answer\"]],\n",
    "        \"prediction_letter\": prediction_letter,\n",
    "    }\n",
    "\n",
    "dataset = batch_predict(dataset).map(postprocess_predictions)\n",
    "display(dataset.to_pandas())"
   ]
  },
  {
   "cell_type": "code",
   "execution_count": 8,
   "metadata": {},
   "outputs": [
    {
     "name": "stdout",
     "output_type": "stream",
     "text": [
      "Format Accuracy: 0.9777777777777777\n",
      "Answer Accuracy: 0.6888888888888889\n"
     ]
    }
   ],
   "source": [
    "fmt_acc = sum(\n",
    "    pred.strip() in answer_map\n",
    "    for pred in dataset[\"prediction_letter\"]\n",
    ") / len(dataset)\n",
    "ans_acc = sum(\n",
    "    pred.strip() == ans.strip()\n",
    "    for pred, ans in zip(dataset[\"prediction_letter\"], dataset[\"answer_letter\"])\n",
    ") / len(dataset)\n",
    "print(f\"Format Accuracy: {fmt_acc}\")\n",
    "print(f\"Answer Accuracy: {ans_acc}\")"
   ]
  },
  {
   "cell_type": "code",
   "execution_count": null,
   "metadata": {},
   "outputs": [],
   "source": [
    "#                                 standard               cod               cot\n",
    "#                           format  answer    format  answer    format  answer\n",
    "# Phi-3-mini-4k-instruct     1.000   0.615     1.000   0.652     0.970   0.667\n",
    "# Phi-3-mini-128k-instruct   1.000   0.630     0.985   0.637     0.985   0.696\n",
    "#   fintuned-sardukar        1.000   0.622     0.993   0.667     0.978   0.689"
   ]
  }
 ],
 "metadata": {
  "kernelspec": {
   "display_name": ".venv",
   "language": "python",
   "name": "python3"
  },
  "language_info": {
   "codemirror_mode": {
    "name": "ipython",
    "version": 3
   },
   "file_extension": ".py",
   "mimetype": "text/x-python",
   "name": "python",
   "nbconvert_exporter": "python",
   "pygments_lexer": "ipython3",
   "version": "3.10.16"
  }
 },
 "nbformat": 4,
 "nbformat_minor": 2
}
