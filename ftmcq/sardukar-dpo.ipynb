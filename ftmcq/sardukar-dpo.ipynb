{
 "cells": [
  {
   "cell_type": "code",
   "execution_count": null,
   "metadata": {
    "tags": [
     "parameters"
    ]
   },
   "outputs": [],
   "source": [
    "model_id = \"microsoft/Phi-3-mini-128k-instruct\"\n",
    "output_model_path = \"model_artifacts/Phi-3-mini-sardukar-dpo\"\n",
    "\n",
    "train_split: str = \"train[30:]\"\n",
    "eval_split: str = \"train[:30]\""
   ]
  },
  {
   "cell_type": "markdown",
   "metadata": {},
   "source": [
    "## Load datasets"
   ]
  },
  {
   "cell_type": "code",
   "execution_count": 2,
   "metadata": {},
   "outputs": [
    {
     "data": {
      "text/plain": [
       "Dataset({\n",
       "    features: ['prompt', 'chosen', 'rejected'],\n",
       "    num_rows: 8800\n",
       "})"
      ]
     },
     "metadata": {},
     "output_type": "display_data"
    },
    {
     "data": {
      "text/plain": [
       "Dataset({\n",
       "    features: ['prompt', 'chosen', 'rejected'],\n",
       "    num_rows: 30\n",
       "})"
      ]
     },
     "metadata": {},
     "output_type": "display_data"
    }
   ],
   "source": [
    "from datasets import load_dataset\n",
    "from more_itertools import first\n",
    "\n",
    "dataset_train =  load_dataset(\"sardukar/physiology-mcqa-8k\", split=train_split)\n",
    "dataset_eval = load_dataset(\"sardukar/physiology-mcqa-8k\", split=eval_split)\n",
    "\n",
    "def preprocess_dpo_data(sample: dict) -> dict:\n",
    "    new_sample = {\n",
    "        \"prompt\": [first(filter(lambda msg: msg[\"role\"] == \"user\", sample[\"prompt\"]))],\n",
    "        \"chosen\": [first(filter(lambda msg: msg[\"role\"] == \"assistant\", sample[\"chosen\"]))],\n",
    "        \"rejected\": [first(filter(lambda msg: msg[\"role\"] == \"assistant\", sample[\"rejected\"]))],\n",
    "    }\n",
    "    return new_sample\n",
    "\n",
    "dataset_train = dataset_train.map(preprocess_dpo_data)\n",
    "dataset_eval = dataset_eval.map(preprocess_dpo_data)\n",
    "\n",
    "# Dataset is already in prompt / chosen / rejected format\n",
    "display(dataset_train)\n",
    "display(dataset_eval)"
   ]
  },
  {
   "cell_type": "markdown",
   "metadata": {},
   "source": [
    "## Finetuning with `DPOTrainer`"
   ]
  },
  {
   "cell_type": "code",
   "execution_count": 3,
   "metadata": {},
   "outputs": [
    {
     "name": "stderr",
     "output_type": "stream",
     "text": [
      "Note: Environment variable`HF_TOKEN` is set and is the current active token independently from the token you've just configured.\n"
     ]
    },
    {
     "name": "stdout",
     "output_type": "stream",
     "text": [
      "hf_AAlNN************************hCQBo\n"
     ]
    }
   ],
   "source": [
    "import os\n",
    "import torch\n",
    "from dotenv import load_dotenv\n",
    "from huggingface_hub import login\n",
    "from peft import LoraConfig\n",
    "from transformers import AutoModelForCausalLM, AutoTokenizer, BitsAndBytesConfig\n",
    "from trl import DPOConfig, DPOTrainer\n",
    "\n",
    "load_dotenv(\"../.env\")\n",
    "hf_token = os.environ[\"HF_TOKEN\"]\n",
    "print(hf_token[:8] + \"*\" * (len(hf_token) - 13) + hf_token[-5:])\n",
    "\n",
    "login(hf_token)"
   ]
  },
  {
   "cell_type": "code",
   "execution_count": 4,
   "metadata": {},
   "outputs": [],
   "source": [
    "peft_config = LoraConfig(\n",
    "    r=16,                       # ≤8 recommended for small models\n",
    "    lora_alpha=32,              # 2*r recommended for DPO\n",
    "    lora_dropout=0.05,\n",
    "    bias=\"none\",\n",
    "    task_type=\"CAUSAL_LM\",\n",
    "    # target_modules=['o_proj', 'qkv_proj'] #phi-3\n",
    "    target_modules=\"all-linear\"\n",
    ")\n"
   ]
  },
  {
   "cell_type": "code",
   "execution_count": 5,
   "metadata": {},
   "outputs": [
    {
     "name": "stderr",
     "output_type": "stream",
     "text": [
      "`low_cpu_mem_usage` was None, now default to True since model is quantized.\n"
     ]
    },
    {
     "data": {
      "application/vnd.jupyter.widget-view+json": {
       "model_id": "b6328ed00a4941f29fb3b47eec1d4885",
       "version_major": 2,
       "version_minor": 0
      },
      "text/plain": [
       "Loading checkpoint shards:   0%|          | 0/2 [00:00<?, ?it/s]"
      ]
     },
     "metadata": {},
     "output_type": "display_data"
    }
   ],
   "source": [
    "tokenizer = AutoTokenizer.from_pretrained(model_id)\n",
    "# tokenizer.pad_token = tokenizer.eos_token\n",
    "\n",
    "bnb_config = BitsAndBytesConfig(\n",
    "    load_in_4bit=True,\n",
    "    bnb_4bit_use_double_quant=True,\n",
    "    bnb_4bit_quant_type=\"nf4\",\n",
    "    bnb_4bit_compute_dtype=torch.float16\n",
    ")\n",
    "\n",
    "model = AutoModelForCausalLM.from_pretrained(\n",
    "    model_id,\n",
    "    quantization_config=bnb_config,\n",
    "    attn_implementation=(\"eager\" if \"gemma\" in model_id else None),\n",
    ")\n",
    "model.config.use_cache = False"
   ]
  },
  {
   "cell_type": "code",
   "execution_count": 6,
   "metadata": {},
   "outputs": [],
   "source": [
    "training_args = DPOConfig(\n",
    "    # training args\n",
    "    per_device_train_batch_size=2,\n",
    "    per_device_eval_batch_size=2,\n",
    "    gradient_accumulation_steps=2,\n",
    "    gradient_checkpointing=True,\n",
    "    remove_unused_columns=True,\n",
    "    optim=\"paged_adamw_32bit\",\n",
    "    learning_rate=5.0e-06,\n",
    "    bf16=True,\n",
    "    num_train_epochs=1,\n",
    "    lr_scheduler_type=\"cosine\",\n",
    "    warmup_steps=2,\n",
    "    logging_strategy=\"steps\",\n",
    "    logging_steps=100,\n",
    "    eval_strategy=\"steps\",\n",
    "    eval_steps=100,\n",
    "    save_strategy=\"epoch\",\n",
    "    output_dir=output_model_path,\n",
    "    report_to=\"none\",\n",
    "\n",
    "    # DPO params\n",
    "    beta=0.1,\n",
    "    max_prompt_length=2048,\n",
    "    max_length=2048,\n",
    ")"
   ]
  },
  {
   "cell_type": "code",
   "execution_count": 7,
   "metadata": {},
   "outputs": [
    {
     "data": {
      "application/vnd.jupyter.widget-view+json": {
       "model_id": "f468a9275bc2473facb2eee17b376e91",
       "version_major": 2,
       "version_minor": 0
      },
      "text/plain": [
       "Applying chat template to train dataset:   0%|          | 0/8800 [00:00<?, ? examples/s]"
      ]
     },
     "metadata": {},
     "output_type": "display_data"
    },
    {
     "data": {
      "application/vnd.jupyter.widget-view+json": {
       "model_id": "f246e320fdfb447191c4c95b681cae39",
       "version_major": 2,
       "version_minor": 0
      },
      "text/plain": [
       "Tokenizing train dataset:   0%|          | 0/8800 [00:00<?, ? examples/s]"
      ]
     },
     "metadata": {},
     "output_type": "display_data"
    },
    {
     "data": {
      "application/vnd.jupyter.widget-view+json": {
       "model_id": "13c271bb1bd64790b3c0f3b18f3ef31a",
       "version_major": 2,
       "version_minor": 0
      },
      "text/plain": [
       "Applying chat template to eval dataset:   0%|          | 0/30 [00:00<?, ? examples/s]"
      ]
     },
     "metadata": {},
     "output_type": "display_data"
    },
    {
     "data": {
      "application/vnd.jupyter.widget-view+json": {
       "model_id": "0e52c053f5634b229c6ac26a9c2b2316",
       "version_major": 2,
       "version_minor": 0
      },
      "text/plain": [
       "Tokenizing eval dataset:   0%|          | 0/30 [00:00<?, ? examples/s]"
      ]
     },
     "metadata": {},
     "output_type": "display_data"
    },
    {
     "name": "stderr",
     "output_type": "stream",
     "text": [
      "No label_names provided for model class `PeftModelForCausalLM`. Since `PeftModel` hides base models input arguments, if label_names is not given, label_names can't be set automatically within `Trainer`. Note that empty label_names list will be used instead.\n",
      "/home/zeus/content/ft-mcq/.venv/lib/python3.10/site-packages/torch/utils/checkpoint.py:87: UserWarning: None of the inputs have requires_grad=True. Gradients will be None\n",
      "  warnings.warn(\n"
     ]
    },
    {
     "data": {
      "text/html": [
       "\n",
       "    <div>\n",
       "      \n",
       "      <progress value='2200' max='2200' style='width:300px; height:20px; vertical-align: middle;'></progress>\n",
       "      [2200/2200 52:00, Epoch 1/1]\n",
       "    </div>\n",
       "    <table border=\"1\" class=\"dataframe\">\n",
       "  <thead>\n",
       " <tr style=\"text-align: left;\">\n",
       "      <th>Step</th>\n",
       "      <th>Training Loss</th>\n",
       "      <th>Validation Loss</th>\n",
       "      <th>Rewards/chosen</th>\n",
       "      <th>Rewards/rejected</th>\n",
       "      <th>Rewards/accuracies</th>\n",
       "      <th>Rewards/margins</th>\n",
       "      <th>Logps/chosen</th>\n",
       "      <th>Logps/rejected</th>\n",
       "      <th>Logits/chosen</th>\n",
       "      <th>Logits/rejected</th>\n",
       "    </tr>\n",
       "  </thead>\n",
       "  <tbody>\n",
       "    <tr>\n",
       "      <td>100</td>\n",
       "      <td>0.160600</td>\n",
       "      <td>0.047525</td>\n",
       "      <td>2.825475</td>\n",
       "      <td>-3.907890</td>\n",
       "      <td>0.966667</td>\n",
       "      <td>6.733365</td>\n",
       "      <td>-367.076324</td>\n",
       "      <td>-153.204193</td>\n",
       "      <td>18.744724</td>\n",
       "      <td>11.917149</td>\n",
       "    </tr>\n",
       "    <tr>\n",
       "      <td>200</td>\n",
       "      <td>0.041400</td>\n",
       "      <td>0.039516</td>\n",
       "      <td>3.900815</td>\n",
       "      <td>-4.593550</td>\n",
       "      <td>0.966667</td>\n",
       "      <td>8.494366</td>\n",
       "      <td>-356.322876</td>\n",
       "      <td>-160.060806</td>\n",
       "      <td>18.797651</td>\n",
       "      <td>12.062738</td>\n",
       "    </tr>\n",
       "    <tr>\n",
       "      <td>300</td>\n",
       "      <td>0.045400</td>\n",
       "      <td>0.031118</td>\n",
       "      <td>4.823029</td>\n",
       "      <td>-4.061334</td>\n",
       "      <td>1.000000</td>\n",
       "      <td>8.884363</td>\n",
       "      <td>-347.100739</td>\n",
       "      <td>-154.738632</td>\n",
       "      <td>18.799124</td>\n",
       "      <td>12.105014</td>\n",
       "    </tr>\n",
       "    <tr>\n",
       "      <td>400</td>\n",
       "      <td>0.038500</td>\n",
       "      <td>0.020127</td>\n",
       "      <td>5.179964</td>\n",
       "      <td>-4.358080</td>\n",
       "      <td>1.000000</td>\n",
       "      <td>9.538044</td>\n",
       "      <td>-343.531433</td>\n",
       "      <td>-157.706085</td>\n",
       "      <td>18.813494</td>\n",
       "      <td>12.157629</td>\n",
       "    </tr>\n",
       "    <tr>\n",
       "      <td>500</td>\n",
       "      <td>0.034300</td>\n",
       "      <td>0.018343</td>\n",
       "      <td>5.631683</td>\n",
       "      <td>-4.200355</td>\n",
       "      <td>1.000000</td>\n",
       "      <td>9.832037</td>\n",
       "      <td>-339.014191</td>\n",
       "      <td>-156.128876</td>\n",
       "      <td>18.752104</td>\n",
       "      <td>11.992146</td>\n",
       "    </tr>\n",
       "    <tr>\n",
       "      <td>600</td>\n",
       "      <td>0.046500</td>\n",
       "      <td>0.021722</td>\n",
       "      <td>5.673980</td>\n",
       "      <td>-4.590253</td>\n",
       "      <td>1.000000</td>\n",
       "      <td>10.264233</td>\n",
       "      <td>-338.591248</td>\n",
       "      <td>-160.027832</td>\n",
       "      <td>18.786751</td>\n",
       "      <td>11.929935</td>\n",
       "    </tr>\n",
       "    <tr>\n",
       "      <td>700</td>\n",
       "      <td>0.042900</td>\n",
       "      <td>0.027271</td>\n",
       "      <td>5.627846</td>\n",
       "      <td>-5.416978</td>\n",
       "      <td>1.000000</td>\n",
       "      <td>11.044826</td>\n",
       "      <td>-339.052551</td>\n",
       "      <td>-168.295105</td>\n",
       "      <td>18.819242</td>\n",
       "      <td>12.077170</td>\n",
       "    </tr>\n",
       "    <tr>\n",
       "      <td>800</td>\n",
       "      <td>0.021100</td>\n",
       "      <td>0.023972</td>\n",
       "      <td>5.580980</td>\n",
       "      <td>-5.842592</td>\n",
       "      <td>1.000000</td>\n",
       "      <td>11.423571</td>\n",
       "      <td>-339.521179</td>\n",
       "      <td>-172.551224</td>\n",
       "      <td>18.823626</td>\n",
       "      <td>11.893851</td>\n",
       "    </tr>\n",
       "    <tr>\n",
       "      <td>900</td>\n",
       "      <td>0.048300</td>\n",
       "      <td>0.034623</td>\n",
       "      <td>5.666755</td>\n",
       "      <td>-6.099165</td>\n",
       "      <td>0.966667</td>\n",
       "      <td>11.765919</td>\n",
       "      <td>-338.663513</td>\n",
       "      <td>-175.116959</td>\n",
       "      <td>18.790663</td>\n",
       "      <td>11.796355</td>\n",
       "    </tr>\n",
       "    <tr>\n",
       "      <td>1000</td>\n",
       "      <td>0.013700</td>\n",
       "      <td>0.029784</td>\n",
       "      <td>5.921500</td>\n",
       "      <td>-5.487065</td>\n",
       "      <td>0.966667</td>\n",
       "      <td>11.408566</td>\n",
       "      <td>-336.116028</td>\n",
       "      <td>-168.995941</td>\n",
       "      <td>18.776817</td>\n",
       "      <td>11.840657</td>\n",
       "    </tr>\n",
       "    <tr>\n",
       "      <td>1100</td>\n",
       "      <td>0.051900</td>\n",
       "      <td>0.031031</td>\n",
       "      <td>6.000040</td>\n",
       "      <td>-5.022664</td>\n",
       "      <td>1.000000</td>\n",
       "      <td>11.022703</td>\n",
       "      <td>-335.330658</td>\n",
       "      <td>-164.351944</td>\n",
       "      <td>18.791769</td>\n",
       "      <td>11.868947</td>\n",
       "    </tr>\n",
       "    <tr>\n",
       "      <td>1200</td>\n",
       "      <td>0.044400</td>\n",
       "      <td>0.035998</td>\n",
       "      <td>5.704824</td>\n",
       "      <td>-6.320510</td>\n",
       "      <td>0.966667</td>\n",
       "      <td>12.025335</td>\n",
       "      <td>-338.282806</td>\n",
       "      <td>-177.330399</td>\n",
       "      <td>18.769556</td>\n",
       "      <td>11.868690</td>\n",
       "    </tr>\n",
       "    <tr>\n",
       "      <td>1300</td>\n",
       "      <td>0.029300</td>\n",
       "      <td>0.033590</td>\n",
       "      <td>5.620247</td>\n",
       "      <td>-6.777737</td>\n",
       "      <td>0.966667</td>\n",
       "      <td>12.397984</td>\n",
       "      <td>-339.128571</td>\n",
       "      <td>-181.902664</td>\n",
       "      <td>18.787548</td>\n",
       "      <td>11.990398</td>\n",
       "    </tr>\n",
       "    <tr>\n",
       "      <td>1400</td>\n",
       "      <td>0.050000</td>\n",
       "      <td>0.030339</td>\n",
       "      <td>5.829054</td>\n",
       "      <td>-6.090515</td>\n",
       "      <td>1.000000</td>\n",
       "      <td>11.919569</td>\n",
       "      <td>-337.040558</td>\n",
       "      <td>-175.030457</td>\n",
       "      <td>18.818478</td>\n",
       "      <td>11.998844</td>\n",
       "    </tr>\n",
       "    <tr>\n",
       "      <td>1500</td>\n",
       "      <td>0.029800</td>\n",
       "      <td>0.029018</td>\n",
       "      <td>5.861987</td>\n",
       "      <td>-5.928596</td>\n",
       "      <td>1.000000</td>\n",
       "      <td>11.790583</td>\n",
       "      <td>-336.711212</td>\n",
       "      <td>-173.411270</td>\n",
       "      <td>18.819620</td>\n",
       "      <td>11.986812</td>\n",
       "    </tr>\n",
       "    <tr>\n",
       "      <td>1600</td>\n",
       "      <td>0.038000</td>\n",
       "      <td>0.026830</td>\n",
       "      <td>5.782937</td>\n",
       "      <td>-6.390233</td>\n",
       "      <td>1.000000</td>\n",
       "      <td>12.173167</td>\n",
       "      <td>-337.501740</td>\n",
       "      <td>-178.027649</td>\n",
       "      <td>18.816040</td>\n",
       "      <td>11.968828</td>\n",
       "    </tr>\n",
       "    <tr>\n",
       "      <td>1700</td>\n",
       "      <td>0.043200</td>\n",
       "      <td>0.028501</td>\n",
       "      <td>5.800812</td>\n",
       "      <td>-6.318487</td>\n",
       "      <td>1.000000</td>\n",
       "      <td>12.119298</td>\n",
       "      <td>-337.322937</td>\n",
       "      <td>-177.310150</td>\n",
       "      <td>18.803247</td>\n",
       "      <td>11.950422</td>\n",
       "    </tr>\n",
       "    <tr>\n",
       "      <td>1800</td>\n",
       "      <td>0.019500</td>\n",
       "      <td>0.028078</td>\n",
       "      <td>5.812510</td>\n",
       "      <td>-6.409241</td>\n",
       "      <td>1.000000</td>\n",
       "      <td>12.221751</td>\n",
       "      <td>-337.205963</td>\n",
       "      <td>-178.217728</td>\n",
       "      <td>18.803797</td>\n",
       "      <td>11.964520</td>\n",
       "    </tr>\n",
       "    <tr>\n",
       "      <td>1900</td>\n",
       "      <td>0.027500</td>\n",
       "      <td>0.028705</td>\n",
       "      <td>5.865754</td>\n",
       "      <td>-6.323914</td>\n",
       "      <td>1.000000</td>\n",
       "      <td>12.189668</td>\n",
       "      <td>-336.673492</td>\n",
       "      <td>-177.364456</td>\n",
       "      <td>18.800892</td>\n",
       "      <td>11.901593</td>\n",
       "    </tr>\n",
       "    <tr>\n",
       "      <td>2000</td>\n",
       "      <td>0.011100</td>\n",
       "      <td>0.025468</td>\n",
       "      <td>5.892504</td>\n",
       "      <td>-6.227704</td>\n",
       "      <td>1.000000</td>\n",
       "      <td>12.120207</td>\n",
       "      <td>-336.405975</td>\n",
       "      <td>-176.402328</td>\n",
       "      <td>18.805899</td>\n",
       "      <td>11.944895</td>\n",
       "    </tr>\n",
       "    <tr>\n",
       "      <td>2100</td>\n",
       "      <td>0.012500</td>\n",
       "      <td>0.027422</td>\n",
       "      <td>5.878952</td>\n",
       "      <td>-6.242332</td>\n",
       "      <td>1.000000</td>\n",
       "      <td>12.121283</td>\n",
       "      <td>-336.541504</td>\n",
       "      <td>-176.548645</td>\n",
       "      <td>18.796270</td>\n",
       "      <td>11.949950</td>\n",
       "    </tr>\n",
       "    <tr>\n",
       "      <td>2200</td>\n",
       "      <td>0.032300</td>\n",
       "      <td>0.027450</td>\n",
       "      <td>5.893747</td>\n",
       "      <td>-6.230766</td>\n",
       "      <td>1.000000</td>\n",
       "      <td>12.124514</td>\n",
       "      <td>-336.393524</td>\n",
       "      <td>-176.432968</td>\n",
       "      <td>18.804222</td>\n",
       "      <td>11.900649</td>\n",
       "    </tr>\n",
       "  </tbody>\n",
       "</table><p>"
      ],
      "text/plain": [
       "<IPython.core.display.HTML object>"
      ]
     },
     "metadata": {},
     "output_type": "display_data"
    },
    {
     "data": {
      "text/plain": [
       "TrainOutput(global_step=2200, training_loss=0.04010157373818484, metrics={'train_runtime': 3122.1534, 'train_samples_per_second': 2.819, 'train_steps_per_second': 0.705, 'total_flos': 0.0, 'train_loss': 0.04010157373818484, 'epoch': 1.0})"
      ]
     },
     "execution_count": 7,
     "metadata": {},
     "output_type": "execute_result"
    }
   ],
   "source": [
    "trainer = DPOTrainer(\n",
    "    model,\n",
    "    args=training_args,\n",
    "    train_dataset=dataset_train,\n",
    "    eval_dataset=dataset_eval,\n",
    "    processing_class=tokenizer,\n",
    "    peft_config=peft_config,\n",
    ")\n",
    "\n",
    "trainer.train()"
   ]
  },
  {
   "cell_type": "code",
   "execution_count": 8,
   "metadata": {},
   "outputs": [
    {
     "data": {
      "text/plain": [
       "('model_artifacts/temp/tokenizer_config.json',\n",
       " 'model_artifacts/temp/special_tokens_map.json',\n",
       " 'model_artifacts/temp/tokenizer.json')"
      ]
     },
     "execution_count": 8,
     "metadata": {},
     "output_type": "execute_result"
    }
   ],
   "source": [
    "trainer.model.save_pretrained(\"model_artifacts/temp\")\n",
    "tokenizer.save_pretrained(\"model_artifacts/temp\")"
   ]
  },
  {
   "cell_type": "code",
   "execution_count": 9,
   "metadata": {},
   "outputs": [],
   "source": [
    "import gc\n",
    "\n",
    "try: del trainer\n",
    "except: print(\"trainer not found\")\n",
    "\n",
    "try: del model\n",
    "except: print(\"model not found\")\n",
    "\n",
    "gc.collect()\n",
    "torch.cuda.empty_cache()"
   ]
  },
  {
   "cell_type": "code",
   "execution_count": 10,
   "metadata": {},
   "outputs": [
    {
     "data": {
      "application/vnd.jupyter.widget-view+json": {
       "model_id": "4a64d4ecd3bd4d9ba4bae9c73a557462",
       "version_major": 2,
       "version_minor": 0
      },
      "text/plain": [
       "Loading checkpoint shards:   0%|          | 0/2 [00:00<?, ?it/s]"
      ]
     },
     "metadata": {},
     "output_type": "display_data"
    }
   ],
   "source": [
    "base_model = AutoModelForCausalLM.from_pretrained(\n",
    "    model_id,\n",
    "    return_dict=True,\n",
    "    torch_dtype=torch.bfloat16,\n",
    ")\n",
    "tokenizer = AutoTokenizer.from_pretrained(model_id)"
   ]
  },
  {
   "cell_type": "code",
   "execution_count": 11,
   "metadata": {},
   "outputs": [],
   "source": [
    "from peft import PeftModel\n",
    "\n",
    "model = PeftModel.from_pretrained(base_model, \"model_artifacts/temp\")\n",
    "model = model.merge_and_unload()"
   ]
  },
  {
   "cell_type": "code",
   "execution_count": 12,
   "metadata": {},
   "outputs": [
    {
     "data": {
      "text/plain": [
       "('model_artifacts/Phi-3-mini-dpo/tokenizer_config.json',\n",
       " 'model_artifacts/Phi-3-mini-dpo/special_tokens_map.json',\n",
       " 'model_artifacts/Phi-3-mini-dpo/tokenizer.json')"
      ]
     },
     "execution_count": 12,
     "metadata": {},
     "output_type": "execute_result"
    }
   ],
   "source": [
    "model.save_pretrained(output_model_path)\n",
    "tokenizer.save_pretrained(output_model_path)"
   ]
  }
 ],
 "metadata": {
  "kernelspec": {
   "display_name": ".venv",
   "language": "python",
   "name": "python3"
  },
  "language_info": {
   "codemirror_mode": {
    "name": "ipython",
    "version": 3
   },
   "file_extension": ".py",
   "mimetype": "text/x-python",
   "name": "python",
   "nbconvert_exporter": "python",
   "pygments_lexer": "ipython3",
   "version": "3.10.16"
  }
 },
 "nbformat": 4,
 "nbformat_minor": 2
}
