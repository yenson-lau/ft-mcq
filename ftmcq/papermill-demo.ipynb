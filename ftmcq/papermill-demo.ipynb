{
 "cells": [
  {
   "cell_type": "markdown",
   "metadata": {},
   "source": [
    "### [Notebook parameters](https://papermill.readthedocs.io/en/latest/usage-parameterize.html)"
   ]
  },
  {
   "cell_type": "code",
   "execution_count": null,
   "metadata": {
    "tags": [
     "parameters"
    ]
   },
   "outputs": [],
   "source": [
    "x_min: float = -1               # minimum x value\n",
    "x_max: float = 1                # maximum x value\n",
    "\n",
    "a: float = 1                    # quadratic coefficient (ax^2)\n",
    "b: float = 1                    # linear coefficient (bx)\n",
    "c: float = -1                   # constant (c)\n",
    "\n",
    "output_file: str = \"tmp.png\"    # file for the output figure"
   ]
  },
  {
   "cell_type": "markdown",
   "metadata": {},
   "source": [
    "### [Notebook inspection](https://papermill.readthedocs.io/en/latest/usage-inspect.html)\n",
    "Running \n",
    "`papermill --help-notebook ./ftmcq/papermill-demo.ipynb`\n",
    "yields the following: \n",
    "\n",
    "```\n",
    "Usage: papermill [OPTIONS] NOTEBOOK_PATH [OUTPUT_PATH]\n",
    "\n",
    "Parameters inferred for notebook './ftmcq/papermill-demo.ipynb':\n",
    "  x_min: float (default -1)       minimum x value\n",
    "  x_max: float (default 1)        maximum x value\n",
    "  a: float (default 1)            quadratic coefficient (ax^2)\n",
    "  b: float (default 1)            linear coefficient (bx)\n",
    "  c: float (default -1)           constant (c)\n",
    "```"
   ]
  },
  {
   "cell_type": "markdown",
   "metadata": {},
   "source": [
    "### [Notebook execution](https://papermill.readthedocs.io/en/latest/usage-execute.html)\n",
    "\n",
    "Python API:\n",
    "\n",
    "```python\n",
    "import papermill as pm\n",
    "\n",
    "pm.execute_notebook(\n",
    "    'papermill-demo.ipynb',\n",
    "    'papermill-demo-executed.ipynb',  # optional\n",
    "    parameters=dict(x_min=-10, b=-2, ...)\n",
    ")\n",
    "```\n",
    "\n",
    "CLI:\n",
    "\n",
    "```sh\n",
    "papermill papermill-demo.ipynb papermill-demo-dexecuted.ipynb -p x_min -10 -p b -2\n",
    "```\n",
    "\n",
    "The NOTEBOOK_PATH and OUTPUT_PATH can be replaced by `-` representing\n",
    "stdout and stderr, or by the presence of pipe inputs / outputs, e.g.\n",
    "\n",
    "```\n",
    "<generate input>... | papermill | ...<process output>\n",
    "```\n",
    "\n",
    "It is also possible to pass parameters in a number of ways:\n",
    "```\n",
    "  -p, --parameters TEXT...        Parameters to pass to the parameters cell.\n",
    "  -r, --parameters_raw TEXT...    Parameters to be read as raw string.\n",
    "  -f, --parameters_file TEXT      Path to YAML file containing parameters.\n",
    "  -y, --parameters_yaml TEXT      YAML string to be used as parameters.\n",
    "  -b, --parameters_base64 TEXT    Base64 encoded YAML string as parameters.\n",
    "```"
   ]
  },
  {
   "cell_type": "code",
   "execution_count": null,
   "metadata": {},
   "outputs": [],
   "source": [
    "import numpy as np\n",
    "from matplotlib import pyplot as plt\n",
    "\n",
    "x = np.linspace(x_min, x_max, 200)\n",
    "plt.plot(x, a*x**2 + b*x + c)\n",
    "plt.savefig(output_file)"
   ]
  }
 ],
 "metadata": {
  "kernelspec": {
   "display_name": ".venv",
   "language": "python",
   "name": "python3"
  },
  "language_info": {
   "name": "python",
   "version": "3.10.16"
  }
 },
 "nbformat": 4,
 "nbformat_minor": 2
}
