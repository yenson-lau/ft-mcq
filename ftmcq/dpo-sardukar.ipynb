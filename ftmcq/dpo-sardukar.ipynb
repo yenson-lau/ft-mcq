{
 "cells": [
  {
   "cell_type": "code",
   "execution_count": 1,
   "metadata": {
    "tags": [
     "parameters"
    ]
   },
   "outputs": [],
   "source": [
    "model_id = \"microsoft/Phi-3-mini-128k-instruct\"\n",
    "output_model_path = \"model_artifacts/Phi-3-mini-dpo-sardukar\"\n",
    "\n",
    "train_split: str = \"train[300:]\"\n",
    "eval_split: str = \"train[:300]\""
   ]
  },
  {
   "cell_type": "markdown",
   "metadata": {},
   "source": [
    "## Load datasets"
   ]
  },
  {
   "cell_type": "code",
   "execution_count": 2,
   "metadata": {},
   "outputs": [
    {
     "data": {
      "text/plain": [
       "Dataset({\n",
       "    features: ['prompt', 'chosen', 'rejected'],\n",
       "    num_rows: 8530\n",
       "})"
      ]
     },
     "metadata": {},
     "output_type": "display_data"
    },
    {
     "data": {
      "text/plain": [
       "Dataset({\n",
       "    features: ['prompt', 'chosen', 'rejected'],\n",
       "    num_rows: 300\n",
       "})"
      ]
     },
     "metadata": {},
     "output_type": "display_data"
    }
   ],
   "source": [
    "from datasets import load_dataset\n",
    "from more_itertools import first\n",
    "\n",
    "dataset_train =  load_dataset(\"sardukar/physiology-mcqa-8k\", split=train_split)\n",
    "dataset_eval = load_dataset(\"sardukar/physiology-mcqa-8k\", split=eval_split)\n",
    "\n",
    "def preprocess_dpo_data(sample: dict) -> dict:\n",
    "    new_sample = {\n",
    "        \"prompt\": [first(filter(lambda msg: msg[\"role\"] == \"user\", sample[\"prompt\"]))],\n",
    "        \"chosen\": [first(filter(lambda msg: msg[\"role\"] == \"assistant\", sample[\"chosen\"]))],\n",
    "        \"rejected\": [first(filter(lambda msg: msg[\"role\"] == \"assistant\", sample[\"rejected\"]))],\n",
    "    }\n",
    "    return new_sample\n",
    "\n",
    "dataset_train = dataset_train.map(preprocess_dpo_data)\n",
    "dataset_eval = dataset_eval.map(preprocess_dpo_data)\n",
    "\n",
    "# Dataset is already in prompt / chosen / rejected format\n",
    "display(dataset_train)\n",
    "display(dataset_eval)"
   ]
  },
  {
   "cell_type": "markdown",
   "metadata": {},
   "source": [
    "## Finetuning with `DPOTrainer`"
   ]
  },
  {
   "cell_type": "code",
   "execution_count": 3,
   "metadata": {},
   "outputs": [
    {
     "name": "stderr",
     "output_type": "stream",
     "text": [
      "Note: Environment variable`HF_TOKEN` is set and is the current active token independently from the token you've just configured.\n"
     ]
    },
    {
     "name": "stdout",
     "output_type": "stream",
     "text": [
      "hf_AAlNN************************hCQBo\n"
     ]
    }
   ],
   "source": [
    "import os\n",
    "import torch\n",
    "from dotenv import load_dotenv\n",
    "from huggingface_hub import login\n",
    "from peft import LoraConfig\n",
    "from transformers import AutoModelForCausalLM, AutoTokenizer, BitsAndBytesConfig\n",
    "from trl import DPOConfig, DPOTrainer\n",
    "\n",
    "load_dotenv(\"../.env\")\n",
    "hf_token = os.environ[\"HF_TOKEN\"]\n",
    "print(hf_token[:8] + \"*\" * (len(hf_token) - 13) + hf_token[-5:])\n",
    "\n",
    "login(hf_token)"
   ]
  },
  {
   "cell_type": "code",
   "execution_count": 4,
   "metadata": {},
   "outputs": [],
   "source": [
    "peft_config = LoraConfig(\n",
    "    r=16,                       # ≤8 recommended for small models\n",
    "    lora_alpha=32,              # 2*r recommended for DPO\n",
    "    lora_dropout=0.05,\n",
    "    bias=\"none\",\n",
    "    task_type=\"CAUSAL_LM\",\n",
    "    # target_modules=['o_proj', 'qkv_proj'] #phi-3\n",
    "    target_modules=\"all-linear\"\n",
    ")\n"
   ]
  },
  {
   "cell_type": "code",
   "execution_count": 5,
   "metadata": {},
   "outputs": [
    {
     "name": "stderr",
     "output_type": "stream",
     "text": [
      "`low_cpu_mem_usage` was None, now default to True since model is quantized.\n"
     ]
    },
    {
     "data": {
      "application/vnd.jupyter.widget-view+json": {
       "model_id": "a8911b48556e456e82d577865d048b3f",
       "version_major": 2,
       "version_minor": 0
      },
      "text/plain": [
       "Loading checkpoint shards:   0%|          | 0/2 [00:00<?, ?it/s]"
      ]
     },
     "metadata": {},
     "output_type": "display_data"
    }
   ],
   "source": [
    "tokenizer = AutoTokenizer.from_pretrained(model_id)\n",
    "# tokenizer.pad_token = tokenizer.eos_token\n",
    "\n",
    "bnb_config = BitsAndBytesConfig(\n",
    "    load_in_4bit=True,\n",
    "    bnb_4bit_use_double_quant=True,\n",
    "    bnb_4bit_quant_type=\"nf4\",\n",
    "    bnb_4bit_compute_dtype=torch.float16\n",
    ")\n",
    "\n",
    "model = AutoModelForCausalLM.from_pretrained(\n",
    "    model_id,\n",
    "    quantization_config=bnb_config,\n",
    "    attn_implementation=(\"eager\" if \"gemma\" in model_id else None),\n",
    ")\n",
    "model.config.use_cache = False"
   ]
  },
  {
   "cell_type": "code",
   "execution_count": null,
   "metadata": {},
   "outputs": [],
   "source": [
    "training_args = DPOConfig(\n",
    "    # training args\n",
    "    per_device_train_batch_size=4,\n",
    "    per_device_eval_batch_size=4,\n",
    "    gradient_accumulation_steps=2,\n",
    "    gradient_checkpointing=True,\n",
    "    remove_unused_columns=True,\n",
    "    optim=\"paged_adamw_32bit\",\n",
    "    learning_rate=5.0e-06,\n",
    "    label_smoothing_factor=0.1,\n",
    "    bf16=True,\n",
    "    num_train_epochs=1,\n",
    "    lr_scheduler_type=\"cosine\",\n",
    "    warmup_steps=2,\n",
    "    logging_strategy=\"steps\",\n",
    "    logging_steps=100,\n",
    "    eval_strategy=\"steps\",\n",
    "    eval_steps=100,\n",
    "    save_strategy=\"epoch\",\n",
    "    output_dir=output_model_path,\n",
    "    report_to=\"none\",\n",
    "\n",
    "    # DPO params\n",
    "    beta=0.1,\n",
    "    max_prompt_length=2048,\n",
    "    max_length=2048,\n",
    ")"
   ]
  },
  {
   "cell_type": "code",
   "execution_count": 7,
   "metadata": {},
   "outputs": [
    {
     "data": {
      "application/vnd.jupyter.widget-view+json": {
       "model_id": "77118fd65edc4cdb9785f6532eb7e3ef",
       "version_major": 2,
       "version_minor": 0
      },
      "text/plain": [
       "Applying chat template to train dataset:   0%|          | 0/8530 [00:00<?, ? examples/s]"
      ]
     },
     "metadata": {},
     "output_type": "display_data"
    },
    {
     "data": {
      "application/vnd.jupyter.widget-view+json": {
       "model_id": "ebdacdf5d4654585b257b7b6861e09bb",
       "version_major": 2,
       "version_minor": 0
      },
      "text/plain": [
       "Tokenizing train dataset:   0%|          | 0/8530 [00:00<?, ? examples/s]"
      ]
     },
     "metadata": {},
     "output_type": "display_data"
    },
    {
     "data": {
      "application/vnd.jupyter.widget-view+json": {
       "model_id": "02d7a8201f494650bd1d94a058ff03fb",
       "version_major": 2,
       "version_minor": 0
      },
      "text/plain": [
       "Applying chat template to eval dataset:   0%|          | 0/300 [00:00<?, ? examples/s]"
      ]
     },
     "metadata": {},
     "output_type": "display_data"
    },
    {
     "data": {
      "application/vnd.jupyter.widget-view+json": {
       "model_id": "ff4e67c77bc44d3cbe561d6c09a2ccff",
       "version_major": 2,
       "version_minor": 0
      },
      "text/plain": [
       "Tokenizing eval dataset:   0%|          | 0/300 [00:00<?, ? examples/s]"
      ]
     },
     "metadata": {},
     "output_type": "display_data"
    },
    {
     "name": "stderr",
     "output_type": "stream",
     "text": [
      "No label_names provided for model class `PeftModelForCausalLM`. Since `PeftModel` hides base models input arguments, if label_names is not given, label_names can't be set automatically within `Trainer`. Note that empty label_names list will be used instead.\n",
      "/home/zeus/content/ft-mcq/.venv/lib/python3.10/site-packages/torch/utils/checkpoint.py:87: UserWarning: None of the inputs have requires_grad=True. Gradients will be None\n",
      "  warnings.warn(\n"
     ]
    },
    {
     "data": {
      "text/html": [
       "\n",
       "    <div>\n",
       "      \n",
       "      <progress value='2132' max='2132' style='width:300px; height:20px; vertical-align: middle;'></progress>\n",
       "      [2132/2132 1:05:54, Epoch 0/1]\n",
       "    </div>\n",
       "    <table border=\"1\" class=\"dataframe\">\n",
       "  <thead>\n",
       " <tr style=\"text-align: left;\">\n",
       "      <th>Step</th>\n",
       "      <th>Training Loss</th>\n",
       "      <th>Validation Loss</th>\n",
       "      <th>Rewards/chosen</th>\n",
       "      <th>Rewards/rejected</th>\n",
       "      <th>Rewards/accuracies</th>\n",
       "      <th>Rewards/margins</th>\n",
       "      <th>Logps/chosen</th>\n",
       "      <th>Logps/rejected</th>\n",
       "      <th>Logits/chosen</th>\n",
       "      <th>Logits/rejected</th>\n",
       "    </tr>\n",
       "  </thead>\n",
       "  <tbody>\n",
       "    <tr>\n",
       "      <td>100</td>\n",
       "      <td>0.154500</td>\n",
       "      <td>0.065987</td>\n",
       "      <td>3.150877</td>\n",
       "      <td>-3.505524</td>\n",
       "      <td>0.960000</td>\n",
       "      <td>6.656400</td>\n",
       "      <td>-362.174164</td>\n",
       "      <td>-147.673141</td>\n",
       "      <td>18.626652</td>\n",
       "      <td>11.920962</td>\n",
       "    </tr>\n",
       "    <tr>\n",
       "      <td>200</td>\n",
       "      <td>0.053500</td>\n",
       "      <td>0.061781</td>\n",
       "      <td>3.893556</td>\n",
       "      <td>-4.132151</td>\n",
       "      <td>0.956667</td>\n",
       "      <td>8.025707</td>\n",
       "      <td>-354.747375</td>\n",
       "      <td>-153.939407</td>\n",
       "      <td>18.694159</td>\n",
       "      <td>12.053234</td>\n",
       "    </tr>\n",
       "    <tr>\n",
       "      <td>300</td>\n",
       "      <td>0.044700</td>\n",
       "      <td>0.063764</td>\n",
       "      <td>4.152649</td>\n",
       "      <td>-4.487573</td>\n",
       "      <td>0.953333</td>\n",
       "      <td>8.640222</td>\n",
       "      <td>-352.156494</td>\n",
       "      <td>-157.493652</td>\n",
       "      <td>18.722061</td>\n",
       "      <td>12.079783</td>\n",
       "    </tr>\n",
       "    <tr>\n",
       "      <td>400</td>\n",
       "      <td>0.052700</td>\n",
       "      <td>0.058817</td>\n",
       "      <td>4.720963</td>\n",
       "      <td>-4.433333</td>\n",
       "      <td>0.963333</td>\n",
       "      <td>9.154296</td>\n",
       "      <td>-346.473297</td>\n",
       "      <td>-156.951218</td>\n",
       "      <td>18.685066</td>\n",
       "      <td>11.998507</td>\n",
       "    </tr>\n",
       "    <tr>\n",
       "      <td>500</td>\n",
       "      <td>0.040300</td>\n",
       "      <td>0.052966</td>\n",
       "      <td>5.405282</td>\n",
       "      <td>-3.568981</td>\n",
       "      <td>0.973333</td>\n",
       "      <td>8.974262</td>\n",
       "      <td>-339.630096</td>\n",
       "      <td>-148.307709</td>\n",
       "      <td>18.638611</td>\n",
       "      <td>11.704249</td>\n",
       "    </tr>\n",
       "    <tr>\n",
       "      <td>600</td>\n",
       "      <td>0.035100</td>\n",
       "      <td>0.048772</td>\n",
       "      <td>5.380713</td>\n",
       "      <td>-4.460271</td>\n",
       "      <td>0.980000</td>\n",
       "      <td>9.840984</td>\n",
       "      <td>-339.875793</td>\n",
       "      <td>-157.220612</td>\n",
       "      <td>18.714254</td>\n",
       "      <td>11.873462</td>\n",
       "    </tr>\n",
       "    <tr>\n",
       "      <td>700</td>\n",
       "      <td>0.025400</td>\n",
       "      <td>0.048096</td>\n",
       "      <td>5.470206</td>\n",
       "      <td>-5.119447</td>\n",
       "      <td>0.976667</td>\n",
       "      <td>10.589653</td>\n",
       "      <td>-338.980896</td>\n",
       "      <td>-163.812363</td>\n",
       "      <td>18.741816</td>\n",
       "      <td>11.990218</td>\n",
       "    </tr>\n",
       "    <tr>\n",
       "      <td>800</td>\n",
       "      <td>0.034400</td>\n",
       "      <td>0.051967</td>\n",
       "      <td>5.353115</td>\n",
       "      <td>-5.645900</td>\n",
       "      <td>0.973333</td>\n",
       "      <td>10.999015</td>\n",
       "      <td>-340.151764</td>\n",
       "      <td>-169.076904</td>\n",
       "      <td>18.741190</td>\n",
       "      <td>11.971866</td>\n",
       "    </tr>\n",
       "    <tr>\n",
       "      <td>900</td>\n",
       "      <td>0.029800</td>\n",
       "      <td>0.049517</td>\n",
       "      <td>5.143085</td>\n",
       "      <td>-6.151467</td>\n",
       "      <td>0.973333</td>\n",
       "      <td>11.294552</td>\n",
       "      <td>-342.252106</td>\n",
       "      <td>-174.132584</td>\n",
       "      <td>18.726143</td>\n",
       "      <td>11.943316</td>\n",
       "    </tr>\n",
       "    <tr>\n",
       "      <td>1000</td>\n",
       "      <td>0.025500</td>\n",
       "      <td>0.048269</td>\n",
       "      <td>5.128032</td>\n",
       "      <td>-6.374474</td>\n",
       "      <td>0.973333</td>\n",
       "      <td>11.502508</td>\n",
       "      <td>-342.402618</td>\n",
       "      <td>-176.362640</td>\n",
       "      <td>18.733818</td>\n",
       "      <td>11.843888</td>\n",
       "    </tr>\n",
       "    <tr>\n",
       "      <td>1100</td>\n",
       "      <td>0.020400</td>\n",
       "      <td>0.043276</td>\n",
       "      <td>5.359799</td>\n",
       "      <td>-5.995424</td>\n",
       "      <td>0.976667</td>\n",
       "      <td>11.355224</td>\n",
       "      <td>-340.084961</td>\n",
       "      <td>-172.572144</td>\n",
       "      <td>18.735268</td>\n",
       "      <td>11.876141</td>\n",
       "    </tr>\n",
       "    <tr>\n",
       "      <td>1200</td>\n",
       "      <td>0.026000</td>\n",
       "      <td>0.039047</td>\n",
       "      <td>5.395871</td>\n",
       "      <td>-6.190068</td>\n",
       "      <td>0.980000</td>\n",
       "      <td>11.585939</td>\n",
       "      <td>-339.724213</td>\n",
       "      <td>-174.518600</td>\n",
       "      <td>18.695564</td>\n",
       "      <td>11.791899</td>\n",
       "    </tr>\n",
       "    <tr>\n",
       "      <td>1300</td>\n",
       "      <td>0.024100</td>\n",
       "      <td>0.037300</td>\n",
       "      <td>5.569026</td>\n",
       "      <td>-5.719657</td>\n",
       "      <td>0.980000</td>\n",
       "      <td>11.288683</td>\n",
       "      <td>-337.992645</td>\n",
       "      <td>-169.814484</td>\n",
       "      <td>18.672047</td>\n",
       "      <td>11.635095</td>\n",
       "    </tr>\n",
       "    <tr>\n",
       "      <td>1400</td>\n",
       "      <td>0.019800</td>\n",
       "      <td>0.039487</td>\n",
       "      <td>5.501100</td>\n",
       "      <td>-6.111565</td>\n",
       "      <td>0.980000</td>\n",
       "      <td>11.612665</td>\n",
       "      <td>-338.671967</td>\n",
       "      <td>-173.733551</td>\n",
       "      <td>18.667461</td>\n",
       "      <td>11.652827</td>\n",
       "    </tr>\n",
       "    <tr>\n",
       "      <td>1500</td>\n",
       "      <td>0.041700</td>\n",
       "      <td>0.041423</td>\n",
       "      <td>5.477821</td>\n",
       "      <td>-6.235425</td>\n",
       "      <td>0.976667</td>\n",
       "      <td>11.713247</td>\n",
       "      <td>-338.904755</td>\n",
       "      <td>-174.972168</td>\n",
       "      <td>18.655998</td>\n",
       "      <td>11.637681</td>\n",
       "    </tr>\n",
       "    <tr>\n",
       "      <td>1600</td>\n",
       "      <td>0.036200</td>\n",
       "      <td>0.040529</td>\n",
       "      <td>5.466654</td>\n",
       "      <td>-6.528266</td>\n",
       "      <td>0.980000</td>\n",
       "      <td>11.994920</td>\n",
       "      <td>-339.016418</td>\n",
       "      <td>-177.900574</td>\n",
       "      <td>18.646154</td>\n",
       "      <td>11.641745</td>\n",
       "    </tr>\n",
       "    <tr>\n",
       "      <td>1700</td>\n",
       "      <td>0.032200</td>\n",
       "      <td>0.040753</td>\n",
       "      <td>5.458679</td>\n",
       "      <td>-6.481518</td>\n",
       "      <td>0.976667</td>\n",
       "      <td>11.940197</td>\n",
       "      <td>-339.096161</td>\n",
       "      <td>-177.433105</td>\n",
       "      <td>18.641483</td>\n",
       "      <td>11.616580</td>\n",
       "    </tr>\n",
       "    <tr>\n",
       "      <td>1800</td>\n",
       "      <td>0.025500</td>\n",
       "      <td>0.040919</td>\n",
       "      <td>5.458451</td>\n",
       "      <td>-6.521205</td>\n",
       "      <td>0.976667</td>\n",
       "      <td>11.979656</td>\n",
       "      <td>-339.098419</td>\n",
       "      <td>-177.829956</td>\n",
       "      <td>18.646791</td>\n",
       "      <td>11.615532</td>\n",
       "    </tr>\n",
       "    <tr>\n",
       "      <td>1900</td>\n",
       "      <td>0.032000</td>\n",
       "      <td>0.041961</td>\n",
       "      <td>5.460216</td>\n",
       "      <td>-6.535701</td>\n",
       "      <td>0.980000</td>\n",
       "      <td>11.995915</td>\n",
       "      <td>-339.080750</td>\n",
       "      <td>-177.974899</td>\n",
       "      <td>18.637897</td>\n",
       "      <td>11.595711</td>\n",
       "    </tr>\n",
       "    <tr>\n",
       "      <td>2000</td>\n",
       "      <td>0.038000</td>\n",
       "      <td>0.041654</td>\n",
       "      <td>5.457721</td>\n",
       "      <td>-6.568690</td>\n",
       "      <td>0.976667</td>\n",
       "      <td>12.026411</td>\n",
       "      <td>-339.105713</td>\n",
       "      <td>-178.304825</td>\n",
       "      <td>18.640062</td>\n",
       "      <td>11.595714</td>\n",
       "    </tr>\n",
       "    <tr>\n",
       "      <td>2100</td>\n",
       "      <td>0.032700</td>\n",
       "      <td>0.041004</td>\n",
       "      <td>5.448167</td>\n",
       "      <td>-6.568337</td>\n",
       "      <td>0.976667</td>\n",
       "      <td>12.016504</td>\n",
       "      <td>-339.201294</td>\n",
       "      <td>-178.301270</td>\n",
       "      <td>18.638170</td>\n",
       "      <td>11.601837</td>\n",
       "    </tr>\n",
       "  </tbody>\n",
       "</table><p>"
      ],
      "text/plain": [
       "<IPython.core.display.HTML object>"
      ]
     },
     "metadata": {},
     "output_type": "display_data"
    },
    {
     "data": {
      "text/plain": [
       "TrainOutput(global_step=2132, training_loss=0.03905861152381432, metrics={'train_runtime': 3969.6542, 'train_samples_per_second': 2.149, 'train_steps_per_second': 0.537, 'total_flos': 0.0, 'train_loss': 0.03905861152381432, 'epoch': 0.9997655334114889})"
      ]
     },
     "execution_count": 7,
     "metadata": {},
     "output_type": "execute_result"
    }
   ],
   "source": [
    "trainer = DPOTrainer(\n",
    "    model,\n",
    "    args=training_args,\n",
    "    train_dataset=dataset_train,\n",
    "    eval_dataset=dataset_eval,\n",
    "    processing_class=tokenizer,\n",
    "    peft_config=peft_config,\n",
    ")\n",
    "\n",
    "trainer.train()"
   ]
  },
  {
   "cell_type": "code",
   "execution_count": 8,
   "metadata": {},
   "outputs": [
    {
     "data": {
      "text/plain": [
       "('model_artifacts/temp/tokenizer_config.json',\n",
       " 'model_artifacts/temp/special_tokens_map.json',\n",
       " 'model_artifacts/temp/tokenizer.json')"
      ]
     },
     "execution_count": 8,
     "metadata": {},
     "output_type": "execute_result"
    }
   ],
   "source": [
    "trainer.model.save_pretrained(\"model_artifacts/temp\")\n",
    "tokenizer.save_pretrained(\"model_artifacts/temp\")"
   ]
  },
  {
   "cell_type": "code",
   "execution_count": 9,
   "metadata": {},
   "outputs": [],
   "source": [
    "import gc\n",
    "\n",
    "try: del trainer\n",
    "except: print(\"trainer not found\")\n",
    "\n",
    "try: del model\n",
    "except: print(\"model not found\")\n",
    "\n",
    "gc.collect()\n",
    "torch.cuda.empty_cache()"
   ]
  },
  {
   "cell_type": "code",
   "execution_count": 10,
   "metadata": {},
   "outputs": [
    {
     "data": {
      "application/vnd.jupyter.widget-view+json": {
       "model_id": "153b02b7290844dd8798f7afa772ec77",
       "version_major": 2,
       "version_minor": 0
      },
      "text/plain": [
       "Loading checkpoint shards:   0%|          | 0/2 [00:00<?, ?it/s]"
      ]
     },
     "metadata": {},
     "output_type": "display_data"
    }
   ],
   "source": [
    "base_model = AutoModelForCausalLM.from_pretrained(\n",
    "    model_id,\n",
    "    return_dict=True,\n",
    "    torch_dtype=torch.bfloat16,\n",
    ")\n",
    "tokenizer = AutoTokenizer.from_pretrained(model_id)"
   ]
  },
  {
   "cell_type": "code",
   "execution_count": 11,
   "metadata": {},
   "outputs": [],
   "source": [
    "from peft import PeftModel\n",
    "\n",
    "model = PeftModel.from_pretrained(base_model, \"model_artifacts/temp\")\n",
    "model = model.merge_and_unload()"
   ]
  },
  {
   "cell_type": "code",
   "execution_count": 12,
   "metadata": {},
   "outputs": [
    {
     "data": {
      "text/plain": [
       "('model_artifacts/Phi-3-mini-dpo-sardukar/tokenizer_config.json',\n",
       " 'model_artifacts/Phi-3-mini-dpo-sardukar/special_tokens_map.json',\n",
       " 'model_artifacts/Phi-3-mini-dpo-sardukar/tokenizer.json')"
      ]
     },
     "execution_count": 12,
     "metadata": {},
     "output_type": "execute_result"
    }
   ],
   "source": [
    "model.save_pretrained(output_model_path)\n",
    "tokenizer.save_pretrained(output_model_path)"
   ]
  }
 ],
 "metadata": {
  "kernelspec": {
   "display_name": ".venv",
   "language": "python",
   "name": "python3"
  },
  "language_info": {
   "codemirror_mode": {
    "name": "ipython",
    "version": 3
   },
   "file_extension": ".py",
   "mimetype": "text/x-python",
   "name": "python",
   "nbconvert_exporter": "python",
   "pygments_lexer": "ipython3",
   "version": "3.10.16"
  }
 },
 "nbformat": 4,
 "nbformat_minor": 2
}
