{
 "cells": [
  {
   "cell_type": "code",
   "execution_count": 1,
   "metadata": {
    "tags": [
     "parameters"
    ]
   },
   "outputs": [],
   "source": [
    "model_id = \"microsoft/Phi-3-mini-128k-instruct\"\n",
    "output_model_path = \"model_artifacts/Phi-3-mini-dpo-sardukar\"\n",
    "\n",
    "train_split: str = \"train[300:]\"\n",
    "eval_split: str = \"train[:300]\""
   ]
  },
  {
   "cell_type": "markdown",
   "metadata": {},
   "source": [
    "## Load datasets"
   ]
  },
  {
   "cell_type": "code",
   "execution_count": 2,
   "metadata": {},
   "outputs": [
    {
     "data": {
      "text/plain": [
       "Dataset({\n",
       "    features: ['prompt', 'chosen', 'rejected'],\n",
       "    num_rows: 8530\n",
       "})"
      ]
     },
     "metadata": {},
     "output_type": "display_data"
    },
    {
     "data": {
      "text/plain": [
       "Dataset({\n",
       "    features: ['prompt', 'chosen', 'rejected'],\n",
       "    num_rows: 300\n",
       "})"
      ]
     },
     "metadata": {},
     "output_type": "display_data"
    }
   ],
   "source": [
    "from datasets import load_dataset\n",
    "from more_itertools import first\n",
    "\n",
    "dataset_train =  load_dataset(\"sardukar/physiology-mcqa-8k\", split=train_split)\n",
    "dataset_eval = load_dataset(\"sardukar/physiology-mcqa-8k\", split=eval_split)\n",
    "\n",
    "def preprocess_dpo_data(sample: dict) -> dict:\n",
    "    new_sample = {\n",
    "        \"prompt\": [first(filter(lambda msg: msg[\"role\"] == \"user\", sample[\"prompt\"]))],\n",
    "        \"chosen\": [first(filter(lambda msg: msg[\"role\"] == \"assistant\", sample[\"chosen\"]))],\n",
    "        \"rejected\": [first(filter(lambda msg: msg[\"role\"] == \"assistant\", sample[\"rejected\"]))],\n",
    "    }\n",
    "    return new_sample\n",
    "\n",
    "dataset_train = dataset_train.map(preprocess_dpo_data)\n",
    "dataset_eval = dataset_eval.map(preprocess_dpo_data)\n",
    "\n",
    "# Dataset is already in prompt / chosen / rejected format\n",
    "display(dataset_train)\n",
    "display(dataset_eval)"
   ]
  },
  {
   "cell_type": "markdown",
   "metadata": {},
   "source": [
    "## Finetuning with `DPOTrainer`"
   ]
  },
  {
   "cell_type": "code",
   "execution_count": 3,
   "metadata": {},
   "outputs": [
    {
     "name": "stderr",
     "output_type": "stream",
     "text": [
      "Note: Environment variable`HF_TOKEN` is set and is the current active token independently from the token you've just configured.\n"
     ]
    },
    {
     "name": "stdout",
     "output_type": "stream",
     "text": [
      "hf_AAlNN************************hCQBo\n"
     ]
    }
   ],
   "source": [
    "import os\n",
    "import torch\n",
    "from dotenv import load_dotenv\n",
    "from huggingface_hub import login\n",
    "from peft import LoraConfig\n",
    "from transformers import AutoModelForCausalLM, AutoTokenizer, BitsAndBytesConfig\n",
    "from trl import DPOConfig, DPOTrainer\n",
    "\n",
    "load_dotenv(\"../.env\")\n",
    "hf_token = os.environ[\"HF_TOKEN\"]\n",
    "print(hf_token[:8] + \"*\" * (len(hf_token) - 13) + hf_token[-5:])\n",
    "\n",
    "login(hf_token)"
   ]
  },
  {
   "cell_type": "code",
   "execution_count": 4,
   "metadata": {},
   "outputs": [],
   "source": [
    "peft_config = LoraConfig(\n",
    "    r=12,                        # ≤8 recommended for small models\n",
    "    lora_alpha=24,              # 2*r recommended for DPO\n",
    "    lora_dropout=0.05,\n",
    "    bias=\"none\",\n",
    "    task_type=\"CAUSAL_LM\",\n",
    "    # target_modules=['o_proj', 'qkv_proj'] #phi-3\n",
    "    target_modules=\"all-linear\"\n",
    ")"
   ]
  },
  {
   "cell_type": "code",
   "execution_count": 5,
   "metadata": {},
   "outputs": [
    {
     "name": "stderr",
     "output_type": "stream",
     "text": [
      "`low_cpu_mem_usage` was None, now default to True since model is quantized.\n"
     ]
    },
    {
     "data": {
      "application/vnd.jupyter.widget-view+json": {
       "model_id": "105edf54f0dd40608efc4e765bf8f25b",
       "version_major": 2,
       "version_minor": 0
      },
      "text/plain": [
       "Loading checkpoint shards:   0%|          | 0/2 [00:00<?, ?it/s]"
      ]
     },
     "metadata": {},
     "output_type": "display_data"
    }
   ],
   "source": [
    "tokenizer = AutoTokenizer.from_pretrained(model_id)\n",
    "# tokenizer.pad_token = tokenizer.eos_token\n",
    "\n",
    "bnb_config = BitsAndBytesConfig(\n",
    "    load_in_4bit=True,\n",
    "    bnb_4bit_use_double_quant=True,\n",
    "    bnb_4bit_quant_type=\"nf4\",\n",
    "    bnb_4bit_compute_dtype=torch.float16\n",
    ")\n",
    "\n",
    "model = AutoModelForCausalLM.from_pretrained(\n",
    "    model_id,\n",
    "    quantization_config=bnb_config,\n",
    "    attn_implementation=(\"eager\" if \"gemma\" in model_id else None),\n",
    ")\n",
    "model.config.use_cache = False"
   ]
  },
  {
   "cell_type": "code",
   "execution_count": 6,
   "metadata": {},
   "outputs": [],
   "source": [
    "training_args = DPOConfig(\n",
    "    # training args\n",
    "    per_device_train_batch_size=2,\n",
    "    per_device_eval_batch_size=2,\n",
    "    gradient_accumulation_steps=2,\n",
    "    gradient_checkpointing=True,\n",
    "    remove_unused_columns=True,\n",
    "    optim=\"paged_adamw_32bit\",\n",
    "    learning_rate=1e-05,\n",
    "    label_smoothing_factor=0.05,\n",
    "    bf16=True,\n",
    "    num_train_epochs=1,\n",
    "    lr_scheduler_type=\"cosine\",\n",
    "    warmup_steps=2,\n",
    "    logging_strategy=\"steps\",\n",
    "    logging_steps=100,\n",
    "    eval_strategy=\"steps\",\n",
    "    eval_steps=100,\n",
    "    save_strategy=\"epoch\",\n",
    "    output_dir=output_model_path,\n",
    "    report_to=\"none\",\n",
    "\n",
    "    # DPO params\n",
    "    beta=0.1,\n",
    "    max_prompt_length=8192,\n",
    "    max_length=8192,\n",
    ")"
   ]
  },
  {
   "cell_type": "code",
   "execution_count": 7,
   "metadata": {},
   "outputs": [
    {
     "name": "stderr",
     "output_type": "stream",
     "text": [
      "No label_names provided for model class `PeftModelForCausalLM`. Since `PeftModel` hides base models input arguments, if label_names is not given, label_names can't be set automatically within `Trainer`. Note that empty label_names list will be used instead.\n",
      "/home/zeus/content/ft-mcq/.venv/lib/python3.10/site-packages/torch/utils/checkpoint.py:87: UserWarning: None of the inputs have requires_grad=True. Gradients will be None\n",
      "  warnings.warn(\n"
     ]
    },
    {
     "data": {
      "text/html": [
       "\n",
       "    <div>\n",
       "      \n",
       "      <progress value='2132' max='2132' style='width:300px; height:20px; vertical-align: middle;'></progress>\n",
       "      [2132/2132 1:05:27, Epoch 0/1]\n",
       "    </div>\n",
       "    <table border=\"1\" class=\"dataframe\">\n",
       "  <thead>\n",
       " <tr style=\"text-align: left;\">\n",
       "      <th>Step</th>\n",
       "      <th>Training Loss</th>\n",
       "      <th>Validation Loss</th>\n",
       "      <th>Rewards/chosen</th>\n",
       "      <th>Rewards/rejected</th>\n",
       "      <th>Rewards/accuracies</th>\n",
       "      <th>Rewards/margins</th>\n",
       "      <th>Logps/chosen</th>\n",
       "      <th>Logps/rejected</th>\n",
       "      <th>Logits/chosen</th>\n",
       "      <th>Logits/rejected</th>\n",
       "    </tr>\n",
       "  </thead>\n",
       "  <tbody>\n",
       "    <tr>\n",
       "      <td>100</td>\n",
       "      <td>0.120200</td>\n",
       "      <td>0.065621</td>\n",
       "      <td>4.098420</td>\n",
       "      <td>-3.918415</td>\n",
       "      <td>0.960000</td>\n",
       "      <td>8.016835</td>\n",
       "      <td>-352.698730</td>\n",
       "      <td>-151.802063</td>\n",
       "      <td>18.713146</td>\n",
       "      <td>12.051064</td>\n",
       "    </tr>\n",
       "    <tr>\n",
       "      <td>200</td>\n",
       "      <td>0.053000</td>\n",
       "      <td>0.057469</td>\n",
       "      <td>4.879029</td>\n",
       "      <td>-4.249614</td>\n",
       "      <td>0.963333</td>\n",
       "      <td>9.128644</td>\n",
       "      <td>-344.892670</td>\n",
       "      <td>-155.114044</td>\n",
       "      <td>18.773344</td>\n",
       "      <td>12.114598</td>\n",
       "    </tr>\n",
       "    <tr>\n",
       "      <td>300</td>\n",
       "      <td>0.042800</td>\n",
       "      <td>0.057425</td>\n",
       "      <td>4.738125</td>\n",
       "      <td>-4.566767</td>\n",
       "      <td>0.966667</td>\n",
       "      <td>9.304892</td>\n",
       "      <td>-346.301697</td>\n",
       "      <td>-158.285568</td>\n",
       "      <td>18.706327</td>\n",
       "      <td>12.078616</td>\n",
       "    </tr>\n",
       "    <tr>\n",
       "      <td>400</td>\n",
       "      <td>0.048100</td>\n",
       "      <td>0.052925</td>\n",
       "      <td>5.035410</td>\n",
       "      <td>-5.106596</td>\n",
       "      <td>0.966667</td>\n",
       "      <td>10.142007</td>\n",
       "      <td>-343.328857</td>\n",
       "      <td>-163.683884</td>\n",
       "      <td>18.647087</td>\n",
       "      <td>11.899955</td>\n",
       "    </tr>\n",
       "    <tr>\n",
       "      <td>500</td>\n",
       "      <td>0.037100</td>\n",
       "      <td>0.042681</td>\n",
       "      <td>5.738383</td>\n",
       "      <td>-4.117891</td>\n",
       "      <td>0.980000</td>\n",
       "      <td>9.856275</td>\n",
       "      <td>-336.299103</td>\n",
       "      <td>-153.796829</td>\n",
       "      <td>18.608992</td>\n",
       "      <td>11.465150</td>\n",
       "    </tr>\n",
       "    <tr>\n",
       "      <td>600</td>\n",
       "      <td>0.033700</td>\n",
       "      <td>0.042910</td>\n",
       "      <td>5.328509</td>\n",
       "      <td>-6.382841</td>\n",
       "      <td>0.970000</td>\n",
       "      <td>11.711349</td>\n",
       "      <td>-340.397858</td>\n",
       "      <td>-176.446320</td>\n",
       "      <td>18.750893</td>\n",
       "      <td>11.751192</td>\n",
       "    </tr>\n",
       "    <tr>\n",
       "      <td>700</td>\n",
       "      <td>0.031500</td>\n",
       "      <td>0.045975</td>\n",
       "      <td>5.615154</td>\n",
       "      <td>-7.087044</td>\n",
       "      <td>0.970000</td>\n",
       "      <td>12.702197</td>\n",
       "      <td>-337.531403</td>\n",
       "      <td>-183.488358</td>\n",
       "      <td>18.773146</td>\n",
       "      <td>11.824639</td>\n",
       "    </tr>\n",
       "    <tr>\n",
       "      <td>800</td>\n",
       "      <td>0.032600</td>\n",
       "      <td>0.051660</td>\n",
       "      <td>5.457411</td>\n",
       "      <td>-7.569355</td>\n",
       "      <td>0.980000</td>\n",
       "      <td>13.026768</td>\n",
       "      <td>-339.108856</td>\n",
       "      <td>-188.311478</td>\n",
       "      <td>18.751772</td>\n",
       "      <td>11.792716</td>\n",
       "    </tr>\n",
       "    <tr>\n",
       "      <td>900</td>\n",
       "      <td>0.030300</td>\n",
       "      <td>0.047391</td>\n",
       "      <td>5.251222</td>\n",
       "      <td>-7.522584</td>\n",
       "      <td>0.976667</td>\n",
       "      <td>12.773805</td>\n",
       "      <td>-341.170715</td>\n",
       "      <td>-187.843735</td>\n",
       "      <td>18.722242</td>\n",
       "      <td>11.769544</td>\n",
       "    </tr>\n",
       "    <tr>\n",
       "      <td>1000</td>\n",
       "      <td>0.026600</td>\n",
       "      <td>0.046893</td>\n",
       "      <td>4.977066</td>\n",
       "      <td>-7.993609</td>\n",
       "      <td>0.980000</td>\n",
       "      <td>12.970674</td>\n",
       "      <td>-343.912292</td>\n",
       "      <td>-192.554016</td>\n",
       "      <td>18.722380</td>\n",
       "      <td>11.550650</td>\n",
       "    </tr>\n",
       "    <tr>\n",
       "      <td>1100</td>\n",
       "      <td>0.018100</td>\n",
       "      <td>0.042700</td>\n",
       "      <td>5.209559</td>\n",
       "      <td>-7.584057</td>\n",
       "      <td>0.973333</td>\n",
       "      <td>12.793615</td>\n",
       "      <td>-341.587341</td>\n",
       "      <td>-188.458481</td>\n",
       "      <td>18.720922</td>\n",
       "      <td>11.711018</td>\n",
       "    </tr>\n",
       "    <tr>\n",
       "      <td>1200</td>\n",
       "      <td>0.028200</td>\n",
       "      <td>0.047199</td>\n",
       "      <td>5.285775</td>\n",
       "      <td>-7.955038</td>\n",
       "      <td>0.976667</td>\n",
       "      <td>13.240812</td>\n",
       "      <td>-340.825195</td>\n",
       "      <td>-192.168274</td>\n",
       "      <td>18.688246</td>\n",
       "      <td>11.596085</td>\n",
       "    </tr>\n",
       "    <tr>\n",
       "      <td>1300</td>\n",
       "      <td>0.023300</td>\n",
       "      <td>0.042042</td>\n",
       "      <td>5.519551</td>\n",
       "      <td>-7.522448</td>\n",
       "      <td>0.976667</td>\n",
       "      <td>13.041999</td>\n",
       "      <td>-338.487457</td>\n",
       "      <td>-187.842392</td>\n",
       "      <td>18.633911</td>\n",
       "      <td>11.412476</td>\n",
       "    </tr>\n",
       "    <tr>\n",
       "      <td>1400</td>\n",
       "      <td>0.020700</td>\n",
       "      <td>0.042393</td>\n",
       "      <td>5.409567</td>\n",
       "      <td>-8.134257</td>\n",
       "      <td>0.976667</td>\n",
       "      <td>13.543823</td>\n",
       "      <td>-339.587280</td>\n",
       "      <td>-193.960449</td>\n",
       "      <td>18.631674</td>\n",
       "      <td>11.477590</td>\n",
       "    </tr>\n",
       "    <tr>\n",
       "      <td>1500</td>\n",
       "      <td>0.039000</td>\n",
       "      <td>0.043615</td>\n",
       "      <td>5.428473</td>\n",
       "      <td>-8.085879</td>\n",
       "      <td>0.976667</td>\n",
       "      <td>13.514352</td>\n",
       "      <td>-339.398224</td>\n",
       "      <td>-193.476700</td>\n",
       "      <td>18.605709</td>\n",
       "      <td>11.515305</td>\n",
       "    </tr>\n",
       "    <tr>\n",
       "      <td>1600</td>\n",
       "      <td>0.034600</td>\n",
       "      <td>0.043353</td>\n",
       "      <td>5.479489</td>\n",
       "      <td>-8.165184</td>\n",
       "      <td>0.976667</td>\n",
       "      <td>13.644673</td>\n",
       "      <td>-338.888062</td>\n",
       "      <td>-194.269760</td>\n",
       "      <td>18.597486</td>\n",
       "      <td>11.548409</td>\n",
       "    </tr>\n",
       "    <tr>\n",
       "      <td>1700</td>\n",
       "      <td>0.035100</td>\n",
       "      <td>0.045238</td>\n",
       "      <td>5.449033</td>\n",
       "      <td>-8.254077</td>\n",
       "      <td>0.973333</td>\n",
       "      <td>13.703111</td>\n",
       "      <td>-339.192596</td>\n",
       "      <td>-195.158676</td>\n",
       "      <td>18.601877</td>\n",
       "      <td>11.546018</td>\n",
       "    </tr>\n",
       "    <tr>\n",
       "      <td>1800</td>\n",
       "      <td>0.021600</td>\n",
       "      <td>0.045469</td>\n",
       "      <td>5.466718</td>\n",
       "      <td>-8.340239</td>\n",
       "      <td>0.976667</td>\n",
       "      <td>13.806956</td>\n",
       "      <td>-339.015747</td>\n",
       "      <td>-196.020294</td>\n",
       "      <td>18.599615</td>\n",
       "      <td>11.543145</td>\n",
       "    </tr>\n",
       "    <tr>\n",
       "      <td>1900</td>\n",
       "      <td>0.029000</td>\n",
       "      <td>0.047805</td>\n",
       "      <td>5.449933</td>\n",
       "      <td>-8.386146</td>\n",
       "      <td>0.973333</td>\n",
       "      <td>13.836081</td>\n",
       "      <td>-339.183594</td>\n",
       "      <td>-196.479355</td>\n",
       "      <td>18.601635</td>\n",
       "      <td>11.522557</td>\n",
       "    </tr>\n",
       "    <tr>\n",
       "      <td>2000</td>\n",
       "      <td>0.032500</td>\n",
       "      <td>0.047320</td>\n",
       "      <td>5.439209</td>\n",
       "      <td>-8.395250</td>\n",
       "      <td>0.976667</td>\n",
       "      <td>13.834459</td>\n",
       "      <td>-339.290833</td>\n",
       "      <td>-196.570419</td>\n",
       "      <td>18.598400</td>\n",
       "      <td>11.526058</td>\n",
       "    </tr>\n",
       "    <tr>\n",
       "      <td>2100</td>\n",
       "      <td>0.032300</td>\n",
       "      <td>0.047234</td>\n",
       "      <td>5.440802</td>\n",
       "      <td>-8.408369</td>\n",
       "      <td>0.976667</td>\n",
       "      <td>13.849170</td>\n",
       "      <td>-339.274902</td>\n",
       "      <td>-196.701599</td>\n",
       "      <td>18.594843</td>\n",
       "      <td>11.515335</td>\n",
       "    </tr>\n",
       "  </tbody>\n",
       "</table><p>"
      ],
      "text/plain": [
       "<IPython.core.display.HTML object>"
      ]
     },
     "metadata": {},
     "output_type": "display_data"
    },
    {
     "data": {
      "text/plain": [
       "TrainOutput(global_step=2132, training_loss=0.03673357162869222, metrics={'train_runtime': 3929.4602, 'train_samples_per_second': 2.171, 'train_steps_per_second': 0.543, 'total_flos': 0.0, 'train_loss': 0.03673357162869222, 'epoch': 0.9997655334114889})"
      ]
     },
     "execution_count": 7,
     "metadata": {},
     "output_type": "execute_result"
    }
   ],
   "source": [
    "trainer = DPOTrainer(\n",
    "    model,\n",
    "    args=training_args,\n",
    "    train_dataset=dataset_train,\n",
    "    eval_dataset=dataset_eval,\n",
    "    processing_class=tokenizer,\n",
    "    peft_config=peft_config,\n",
    ")\n",
    "\n",
    "trainer.train()"
   ]
  },
  {
   "cell_type": "code",
   "execution_count": 8,
   "metadata": {},
   "outputs": [
    {
     "data": {
      "text/plain": [
       "('model_artifacts/temp/tokenizer_config.json',\n",
       " 'model_artifacts/temp/special_tokens_map.json',\n",
       " 'model_artifacts/temp/tokenizer.json')"
      ]
     },
     "execution_count": 8,
     "metadata": {},
     "output_type": "execute_result"
    }
   ],
   "source": [
    "trainer.model.save_pretrained(\"model_artifacts/temp\")\n",
    "tokenizer.save_pretrained(\"model_artifacts/temp\")"
   ]
  },
  {
   "cell_type": "code",
   "execution_count": 9,
   "metadata": {},
   "outputs": [],
   "source": [
    "import gc\n",
    "\n",
    "try: del trainer\n",
    "except: print(\"trainer not found\")\n",
    "\n",
    "try: del model\n",
    "except: print(\"model not found\")\n",
    "\n",
    "gc.collect()\n",
    "torch.cuda.empty_cache()"
   ]
  },
  {
   "cell_type": "code",
   "execution_count": 10,
   "metadata": {},
   "outputs": [
    {
     "data": {
      "application/vnd.jupyter.widget-view+json": {
       "model_id": "ee6430c09b714885969522b122be9901",
       "version_major": 2,
       "version_minor": 0
      },
      "text/plain": [
       "Loading checkpoint shards:   0%|          | 0/2 [00:00<?, ?it/s]"
      ]
     },
     "metadata": {},
     "output_type": "display_data"
    }
   ],
   "source": [
    "base_model = AutoModelForCausalLM.from_pretrained(\n",
    "    model_id,\n",
    "    return_dict=True,\n",
    "    torch_dtype=torch.bfloat16,\n",
    ")\n",
    "tokenizer = AutoTokenizer.from_pretrained(model_id)"
   ]
  },
  {
   "cell_type": "code",
   "execution_count": 11,
   "metadata": {},
   "outputs": [],
   "source": [
    "from peft import PeftModel\n",
    "\n",
    "model = PeftModel.from_pretrained(base_model, \"model_artifacts/temp\")\n",
    "model = model.merge_and_unload()"
   ]
  },
  {
   "cell_type": "code",
   "execution_count": 12,
   "metadata": {},
   "outputs": [
    {
     "data": {
      "text/plain": [
       "('model_artifacts/Phi-3-mini-dpo-sardukar/tokenizer_config.json',\n",
       " 'model_artifacts/Phi-3-mini-dpo-sardukar/special_tokens_map.json',\n",
       " 'model_artifacts/Phi-3-mini-dpo-sardukar/tokenizer.json')"
      ]
     },
     "execution_count": 12,
     "metadata": {},
     "output_type": "execute_result"
    }
   ],
   "source": [
    "model.save_pretrained(output_model_path)\n",
    "tokenizer.save_pretrained(output_model_path)"
   ]
  }
 ],
 "metadata": {
  "kernelspec": {
   "display_name": ".venv",
   "language": "python",
   "name": "python3"
  },
  "language_info": {
   "codemirror_mode": {
    "name": "ipython",
    "version": 3
   },
   "file_extension": ".py",
   "mimetype": "text/x-python",
   "name": "python",
   "nbconvert_exporter": "python",
   "pygments_lexer": "ipython3",
   "version": "3.10.16"
  }
 },
 "nbformat": 4,
 "nbformat_minor": 2
}
